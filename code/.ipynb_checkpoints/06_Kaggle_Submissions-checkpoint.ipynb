{
 "cells": [
  {
   "cell_type": "code",
   "execution_count": 48,
   "metadata": {},
   "outputs": [],
   "source": [
    "import pandas as pd\n",
    "from sklearn.linear_model import LinearRegression\n",
    "from sklearn.model_selection import train_test_split, cross_val_score\n",
    "from sklearn import metrics\n",
    "import numpy as np"
   ]
  },
  {
   "cell_type": "code",
   "execution_count": 49,
   "metadata": {},
   "outputs": [],
   "source": [
    "df_train = pd.read_csv(\"./submission/train_cleaned.csv\")\n",
    "df_test =pd.read_csv(\"./submission/test_cleaned.csv\")"
   ]
  },
  {
   "cell_type": "code",
   "execution_count": 50,
   "metadata": {},
   "outputs": [
    {
     "data": {
      "text/plain": [
       "Lot Frontage     0.455581\n",
       "Garage Cond      0.113895\n",
       "Garage Qual      0.113895\n",
       "Garage Finish    0.113895\n",
       "Garage Yr Blt    0.113895\n",
       "Electrical       0.113895\n",
       "dtype: float64"
      ]
     },
     "execution_count": 50,
     "metadata": {},
     "output_type": "execute_result"
    }
   ],
   "source": [
    "column_null_counts = df_test.isnull().sum() *100/ len(df_test) #Filter to find missing data in percetage \n",
    "missing_data_columns =column_null_counts[column_null_counts >0] # get only columns where missing data  >0\n",
    "missing_data_columns.sort_values(ascending=False) # display them in highest missing data at top"
   ]
  },
  {
   "cell_type": "code",
   "execution_count": 62,
   "metadata": {},
   "outputs": [],
   "source": [
    "columns_to_drop =['SalePrice','MS SubClass',\n",
    "                  'Misc Val', 'Mo Sold', 'Yr Sold',\n",
    "                   'Low Qual Fin SF', 'Gr Liv Area',\n",
    "                  'Year Built', 'Mas Vnr Area', 'Bsmt Unf SF','Garage Yr Blt',\n",
    "                 'Screen Porch',\n",
    "                  '3Ssn Porch','Lot Frontage']\n",
    "features =  df_train._get_numeric_data().drop(columns =columns_to_drop).columns\n",
    "X_train =df_train[features]\n",
    "y_train=np.log(df_train['SalePrice'])\n",
    "X_test =df_test[features]"
   ]
  },
  {
   "cell_type": "code",
   "execution_count": 63,
   "metadata": {},
   "outputs": [
    {
     "data": {
      "text/plain": [
       "Index(['Lot Area', 'Overall Qual', 'Overall Cond', 'Year Remod/Add',\n",
       "       'BsmtFin SF 1', 'BsmtFin SF 2', 'Total Bsmt SF', '1st Flr SF',\n",
       "       '2nd Flr SF', 'Full Bath', 'Half Bath', 'Bedroom AbvGr',\n",
       "       'Kitchen AbvGr', 'TotRms AbvGrd', 'Fireplaces', 'Garage Cars',\n",
       "       'Garage Area', 'Wood Deck SF', 'Open Porch SF', 'Enclosed Porch',\n",
       "       'Pool Area'],\n",
       "      dtype='object')"
      ]
     },
     "execution_count": 63,
     "metadata": {},
     "output_type": "execute_result"
    }
   ],
   "source": [
    "features"
   ]
  },
  {
   "cell_type": "code",
   "execution_count": 64,
   "metadata": {},
   "outputs": [],
   "source": [
    "lr =LinearRegression()\n",
    "lr.fit(X_train,y_train)\n",
    "train_r2_score =lr.score(X_train,y_train)\n",
    "train_cross_val_score =cross_val_score(lr,X_train,y_train,cv=5).mean()\n",
    "\n",
    "df_test['SalePrice_log'] =lr.predict(X_test)\n",
    "test_r2_score =lr.score(X_test,df_test['SalePrice_log'])"
   ]
  },
  {
   "cell_type": "code",
   "execution_count": 65,
   "metadata": {},
   "outputs": [],
   "source": [
    "df_test['SalePrice'] =np.exp(df_test['SalePrice_log'])\n",
    "df_test[['Id' ,'SalePrice']].to_csv('./submission/ames_pred_01_14_01.csv',index=False)"
   ]
  },
  {
   "cell_type": "code",
   "execution_count": 66,
   "metadata": {},
   "outputs": [
    {
     "name": "stdout",
     "output_type": "stream",
     "text": [
      "rmse= 0.16239258016618147 ,\n",
      "train r2 score =0.8438448049261846, \n",
      "cross_val_Score= 0.8262402799417096,\n",
      "test r2 score = 1.0\n"
     ]
    }
   ],
   "source": [
    "rmse=np.sqrt(metrics.mean_squared_error(np.log(df_train['SalePrice']),lr.predict(X_train)))\n",
    "\n",
    "print(f\"rmse= {rmse} ,\\ntrain r2 score ={train_r2_score}, \\ncross_val_Score= {train_cross_val_score},\\ntest r2 score = {test_r2_score}\")"
   ]
  },
  {
   "cell_type": "markdown",
   "metadata": {},
   "source": [
    "'BsmtFin SF 1','BsmtFin SF 2'  -36834.74381157314\n",
    "35240 -,'1st Flr SF'\n",
    "'2nd Flr SF', -'2nd Flr SF',\n",
    "34812\n",
    "34765"
   ]
  },
  {
   "cell_type": "code",
   "execution_count": null,
   "metadata": {},
   "outputs": [],
   "source": []
  }
 ],
 "metadata": {
  "kernelspec": {
   "display_name": "Python 3",
   "language": "python",
   "name": "python3"
  },
  "language_info": {
   "codemirror_mode": {
    "name": "ipython",
    "version": 3
   },
   "file_extension": ".py",
   "mimetype": "text/x-python",
   "name": "python",
   "nbconvert_exporter": "python",
   "pygments_lexer": "ipython3",
   "version": "3.7.4"
  }
 },
 "nbformat": 4,
 "nbformat_minor": 2
}
