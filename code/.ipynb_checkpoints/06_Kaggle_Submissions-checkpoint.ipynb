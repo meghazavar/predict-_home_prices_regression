{
 "cells": [
  {
   "cell_type": "code",
   "execution_count": 36,
   "metadata": {},
   "outputs": [],
   "source": [
    "import pandas as pd\n",
    "from sklearn.linear_model import LinearRegression\n",
    "from sklearn.model_selection import train_test_split, cross_val_score\n",
    "from sklearn import metrics\n",
    "import numpy as np"
   ]
  },
  {
   "cell_type": "code",
   "execution_count": 37,
   "metadata": {},
   "outputs": [],
   "source": [
    "df_train = pd.read_csv(\"./submission/train_cleaned.csv\")\n",
    "df_test =pd.read_csv(\"../datasets/test.csv\")"
   ]
  },
  {
   "cell_type": "code",
   "execution_count": 38,
   "metadata": {},
   "outputs": [
    {
     "data": {
      "text/plain": [
       "Pool QC           99.544419\n",
       "Misc Feature      95.330296\n",
       "Alley             93.394077\n",
       "Fence             80.410023\n",
       "Fireplace Qu      48.063781\n",
       "Lot Frontage      18.223235\n",
       "Garage Yr Blt      5.125285\n",
       "Garage Finish      5.125285\n",
       "Garage Qual        5.125285\n",
       "Garage Cond        5.125285\n",
       "Garage Type        5.011390\n",
       "BsmtFin Type 2     2.847380\n",
       "BsmtFin Type 1     2.847380\n",
       "Bsmt Exposure      2.847380\n",
       "Bsmt Cond          2.847380\n",
       "Bsmt Qual          2.847380\n",
       "Mas Vnr Area       0.113895\n",
       "Mas Vnr Type       0.113895\n",
       "Electrical         0.113895\n",
       "dtype: float64"
      ]
     },
     "execution_count": 38,
     "metadata": {},
     "output_type": "execute_result"
    }
   ],
   "source": [
    "column_null_counts = df_test.isnull().sum() *100/ len(df_test) #Filter to find missing data in percetage \n",
    "missing_data_columns =column_null_counts[column_null_counts >0] # get only columns where missing data  >0\n",
    "missing_data_columns.sort_values(ascending=False) # display them in highest missing data at top"
   ]
  },
  {
   "cell_type": "code",
   "execution_count": 39,
   "metadata": {},
   "outputs": [],
   "source": [
    "columns_to_drop =['SalePrice','Bsmt Full Bath','Bsmt Half Bath','Unnamed: 0','Id','PID','MS SubClass',\n",
    "                  'Misc Val', 'Mo Sold', 'Yr Sold',\n",
    "                   'Low Qual Fin SF', 'Gr Liv Area',\n",
    "                  'Year Built', 'Year Remod/Add', 'Mas Vnr Area', 'Bsmt Unf SF','Garage Yr Blt',\n",
    "                 'Screen Porch',\n",
    "                  '3Ssn Porch','Lot Frontage']\n",
    "features =  df_train._get_numeric_data().drop(columns =columns_to_drop).columns\n",
    "X_train =df_train[features]\n",
    "y_train=np.log(df_train['SalePrice'])"
   ]
  },
  {
   "cell_type": "code",
   "execution_count": 40,
   "metadata": {},
   "outputs": [
    {
     "data": {
      "text/plain": [
       "Index(['Lot Area', 'Overall Qual', 'Overall Cond', 'BsmtFin SF 1',\n",
       "       'BsmtFin SF 2', 'Total Bsmt SF', '1st Flr SF', '2nd Flr SF',\n",
       "       'Full Bath', 'Half Bath', 'Bedroom AbvGr', 'Kitchen AbvGr',\n",
       "       'TotRms AbvGrd', 'Fireplaces', 'Garage Cars', 'Garage Area',\n",
       "       'Wood Deck SF', 'Open Porch SF', 'Enclosed Porch', 'Pool Area'],\n",
       "      dtype='object')"
      ]
     },
     "execution_count": 40,
     "metadata": {},
     "output_type": "execute_result"
    }
   ],
   "source": [
    "features"
   ]
  },
  {
   "cell_type": "code",
   "execution_count": 41,
   "metadata": {},
   "outputs": [],
   "source": [
    "\n",
    "X_test =df_test[features]"
   ]
  },
  {
   "cell_type": "code",
   "execution_count": 42,
   "metadata": {},
   "outputs": [
    {
     "data": {
      "text/plain": [
       "0.8344275770371614"
      ]
     },
     "execution_count": 42,
     "metadata": {},
     "output_type": "execute_result"
    }
   ],
   "source": [
    "lr =LinearRegression()\n",
    "lr.fit(X_train,y_train)\n",
    "lr.score(X_train,y_train)"
   ]
  },
  {
   "cell_type": "code",
   "execution_count": 43,
   "metadata": {},
   "outputs": [
    {
     "data": {
      "text/plain": [
       "0.817465046816175"
      ]
     },
     "execution_count": 43,
     "metadata": {},
     "output_type": "execute_result"
    }
   ],
   "source": [
    "cross_val_score(lr,X_train,y_train,cv=5).mean()"
   ]
  },
  {
   "cell_type": "code",
   "execution_count": 44,
   "metadata": {},
   "outputs": [],
   "source": [
    "df_test['SalePrice_log'] =lr.predict(X_test)\n",
    "df_test['SalePrice'] =np.exp(df_test['SalePrice_log'])"
   ]
  },
  {
   "cell_type": "code",
   "execution_count": 45,
   "metadata": {},
   "outputs": [],
   "source": [
    "df_test[['Id' ,'SalePrice']].to_csv('./submission/ames_pred_01_10_01.csv',index=False)"
   ]
  },
  {
   "cell_type": "code",
   "execution_count": 46,
   "metadata": {},
   "outputs": [
    {
     "data": {
      "text/plain": [
       "0.16730170090783383"
      ]
     },
     "execution_count": 46,
     "metadata": {},
     "output_type": "execute_result"
    }
   ],
   "source": [
    "np.sqrt(metrics.mean_squared_error(np.log(df_train['SalePrice']),lr.predict(X_train)))"
   ]
  },
  {
   "cell_type": "markdown",
   "metadata": {},
   "source": [
    "'BsmtFin SF 1','BsmtFin SF 2'  -36834.74381157314\n",
    "35240 -,'1st Flr SF'\n",
    "'2nd Flr SF', -'2nd Flr SF',\n",
    "34812\n",
    "34765"
   ]
  }
 ],
 "metadata": {
  "kernelspec": {
   "display_name": "Python 3",
   "language": "python",
   "name": "python3"
  },
  "language_info": {
   "codemirror_mode": {
    "name": "ipython",
    "version": 3
   },
   "file_extension": ".py",
   "mimetype": "text/x-python",
   "name": "python",
   "nbconvert_exporter": "python",
   "pygments_lexer": "ipython3",
   "version": "3.7.4"
  }
 },
 "nbformat": 4,
 "nbformat_minor": 2
}
