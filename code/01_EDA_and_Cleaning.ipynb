{
 "cells": [
  {
   "cell_type": "markdown",
   "metadata": {},
   "source": [
    "\n",
    "- [ ] [Packages and data import](#import_package)\n",
    "- [ ] [section 2 High level overview of columns](#high_level_overview_of_columns)\n",
    "- [ ] [section 3 Identify missing data ](#identify-missing_Data)\n",
    "- [ ] [section 4 Handling missing data ](#handling-missing_Data)\n",
    "- [ ] [distributions examinination and description](#dist_exam_and_describe)\n",
    "- [ ] [Section  - Refeneces](#References)"
   ]
  },
  {
   "cell_type": "markdown",
   "metadata": {},
   "source": [
    "\n",
    "- [x]Are missing values imputed appropriately?\n",
    "- [ ]Are distributions examined and described?\n",
    "- [ ]Are outliers identified and addressed?\n",
    "- [ ]Are appropriate summary statistics provided?\n",
    "- [ ]Are steps taken during data cleaning and EDA framed appropriately?\n",
    "- [ ]Does the student address whether or not they are likely to be able to answer their problem statement with the -provided data given what they've discovered during EDA?"
   ]
  },
  {
   "cell_type": "markdown",
   "metadata": {},
   "source": [
    "<a id=\"import_package>\n",
    "### Section 1: Packages and data import"
   ]
  },
  {
   "cell_type": "code",
   "execution_count": 1,
   "metadata": {},
   "outputs": [
    {
     "name": "stdout",
     "output_type": "stream",
     "text": [
      "Requirement already satisfied: missingno in /Users/mybiyani/opt/anaconda3/lib/python3.7/site-packages (0.4.2)\n",
      "Requirement already satisfied: matplotlib in /Users/mybiyani/opt/anaconda3/lib/python3.7/site-packages (from missingno) (3.1.2)\n",
      "Requirement already satisfied: seaborn in /Users/mybiyani/opt/anaconda3/lib/python3.7/site-packages (from missingno) (0.9.0)\n",
      "Requirement already satisfied: scipy in /Users/mybiyani/opt/anaconda3/lib/python3.7/site-packages (from missingno) (1.3.1)\n",
      "Requirement already satisfied: numpy in /Users/mybiyani/opt/anaconda3/lib/python3.7/site-packages (from missingno) (1.17.4)\n",
      "Requirement already satisfied: cycler>=0.10 in /Users/mybiyani/opt/anaconda3/lib/python3.7/site-packages (from matplotlib->missingno) (0.10.0)\n",
      "Requirement already satisfied: python-dateutil>=2.1 in /Users/mybiyani/opt/anaconda3/lib/python3.7/site-packages (from matplotlib->missingno) (2.8.0)\n",
      "Requirement already satisfied: pyparsing!=2.0.4,!=2.1.2,!=2.1.6,>=2.0.1 in /Users/mybiyani/opt/anaconda3/lib/python3.7/site-packages (from matplotlib->missingno) (2.4.2)\n",
      "Requirement already satisfied: kiwisolver>=1.0.1 in /Users/mybiyani/opt/anaconda3/lib/python3.7/site-packages (from matplotlib->missingno) (1.1.0)\n",
      "Requirement already satisfied: pandas>=0.15.2 in /Users/mybiyani/opt/anaconda3/lib/python3.7/site-packages (from seaborn->missingno) (0.25.3)\n",
      "Requirement already satisfied: six in /Users/mybiyani/opt/anaconda3/lib/python3.7/site-packages (from cycler>=0.10->matplotlib->missingno) (1.12.0)\n",
      "Requirement already satisfied: setuptools in /Users/mybiyani/opt/anaconda3/lib/python3.7/site-packages (from kiwisolver>=1.0.1->matplotlib->missingno) (41.4.0)\n",
      "Requirement already satisfied: pytz>=2017.2 in /Users/mybiyani/opt/anaconda3/lib/python3.7/site-packages (from pandas>=0.15.2->seaborn->missingno) (2019.3)\n"
     ]
    }
   ],
   "source": [
    "import pandas as pd\n",
    "import numpy as np\n",
    "import seaborn as sns\n",
    "import matplotlib.pyplot as plt\n",
    "!pip install missingno  # install the library\n",
    "import missingno as msno  # import the reference to the library\n",
    "%matplotlib inline"
   ]
  },
  {
   "cell_type": "code",
   "execution_count": 2,
   "metadata": {},
   "outputs": [
    {
     "data": {
      "text/plain": [
       "(2051, 81)"
      ]
     },
     "execution_count": 2,
     "metadata": {},
     "output_type": "execute_result"
    }
   ],
   "source": [
    "df =pd.read_csv(\"../datasets/train.csv\")\n",
    "df.shape  # (rows, columns) - 2051, 81"
   ]
  },
  {
   "cell_type": "markdown",
   "metadata": {},
   "source": [
    "<a id=\"high_level_overview_of_columns\">\n",
    "    \n",
    "### Section 2: High level  overview of columns\n",
    "A detailed dictionary can be found under the documents folder.Following tables provide a quick summary of data available.\n",
    "There are 78 attributes of a house provided."
   ]
  },
  {
   "cell_type": "markdown",
   "metadata": {},
   "source": [
    "\n",
    "|Feature|Type|Description|\n",
    "|---|---|---|\n",
    "|state|object|SAT|\n",
    "|Id|  |  | \n",
    "|PID|  |  | \n",
    "|MS SubClass|  |  Identifies the type of dwelling involved in the sale.| \n",
    "|MS Zoning|  | Identifies the general zoning classification of the sale | \n",
    "|Lot Frontage|  | Linear feet of street connected to property | \n",
    "|Lot Area|  |  Lot size in square feet|\n",
    "|Street|  | Type of road access to property | \n",
    "|Alley|  | Type of alley access to property | \n",
    "|Lot Shape|  | General shape of property | \n",
    "|Land Contour|  | Flatness of the property | \n",
    "|Utilities|  |  Type of utilities available|\n",
    "|Lot Config|  | Lot configuration | \n",
    "|Land Slope|  | Slope of property | \n",
    "|Neighborhood|  |Physical locations within Ames city limits  | \n",
    "|Condition 1|  | Proximity to various conditions |\n",
    "|Condition 2|  | Proximity to various conditions (if more than one is present) | \n",
    "|Bldg Type|  |  Type of dwelling| '\n",
    "|House Style|  | Style of dwelling | \n",
    "|Overall Qual|  | Rates the overall material and finish of the house |\n",
    "|Overall Cond|  |Rates the overall condition of the house  | \n",
    "|Year Built|  | Original construction date | \n",
    "|Year Remod/Add|  | Remodel date (same as construction date if no remodeling or additions) | \n",
    "|Roof Style|  |  Type of roof|\n",
    "|Roof Matl|  | Roof material | \n",
    "|Exterior 1st|  | Exterior covering on house | \n",
    "|Exterior 2nd|  | Exterior covering on house (if more than one material) | \n",
    "|Mas Vnr Type|  | Masonry veneer type |\n",
    "|Mas Vnr Area|  | Masonry veneer area in square feet | \n",
    "|Exter Qual|  | Evaluates the quality of the material on the exterior | \n",
    "|Exter Cond|  | Evaluates the present condition of the material on the exterior | \n",
    "|Foundation|  | Type of foundation | \n",
    "|Bsmt Qual|  |  Evaluates the height of the basement|\n",
    "|Bsmt Cond|  |  Evaluates the general condition of the basement| \n",
    "|Bsmt Exposure|  | Refers to walkout or garden level walls | \n",
    "|BsmtFin Type 1|  | Rating of basement finished area | \n",
    "|BsmtFin SF 1|  | Type 1 finished square feet |\n",
    "|BsmtFin Type 2|  |Rating of basement finished area (if multiple types)  | \n",
    "|BsmtFin SF 2|  | Type 2 finished square feet | \n",
    "|Bsmt Unf SF|  | Unfinished square feet of basement area | \n",
    "|Total Bsmt SF|  |Total square feet of basement area  |\n",
    "|Heating|  | Type of heating | \n",
    "|Heating QC|  | Heating quality and condition | \n",
    "|Central Air|  | Central air conditioning | \n",
    "|Electrical|  | Electrical system | \n",
    "|1st Flr SF|  |  First Floor square feet|\n",
    "|2nd Flr SF|  | Second floor square feet | \n",
    "|Low Qual Fin SF|  | Low quality finished square feet (all floors) | \n",
    "|Gr Liv Area|  | Above grade (ground) living area square feet | \n",
    "|Bsmt Full Bath|  | Basement full bathrooms |\n",
    "|Bsmt Half Bath|  | Basement half bathrooms | \n",
    "|Full Bath|  |  Full bathrooms above grade| \n",
    "|Half Bath|  |  Half baths above grade| \n",
    "|Bedroom AbvGr|  | Bedrooms above grade (does NOT include basement bedrooms) |\n",
    "|Kitchen AbvGr|  | Kitchens above grade | \n",
    "|Kitchen Qual|  | Kitchen quality | \n",
    "|TotRms AbvGrd|  | Total rooms above grade (does not include bathrooms) | \n",
    "|Functional|  |  Home functionality (Assume typical unless deductions are warranted)|\n",
    "|Fireplaces|  |  Number of fireplaces| \n",
    "|Fireplace Qu|  | Fireplace quality | \n",
    "|Garage Type|  | Garage location | \n",
    "|Garage Yr Blt|  | Year garage was built |\n",
    "|Garage Finish|  | Interior finish of the garage | \n",
    "|Garage Cars|  | Size of garage in car capacity | \n",
    "|Garage Area|  | Size of garage in square feet | \n",
    "|Garage Qual|  | Garage quality |\n",
    "|Garage Cond|  | Garage condition | \n",
    "|Paved Drive|  | Paved driveway | \n",
    "|Wood Deck SF|  | Wood deck area in square feet | \n",
    "|Open Porch SF|  | Open porch area in square feet |\n",
    "|Enclosed Porch|  | Enclosed porch area in square feet | \n",
    "|3Ssn Porch|  | Three season porch area in square feet | \n",
    "|Screen Porch|  | Screen porch area in square feet | \n",
    "|Pool Area|  |  Pool area in square feet| \n",
    "|**Pool QC** | string | Pool quality |\n",
    "|Fence|  | Fence quality | \n",
    "|Misc Feature|  | Miscellaneous feature not covered in other categories  | \n",
    "|Misc Val|  |  $Value of miscellaneous feature| \n",
    "|Mo Sold|  |  Month Sold (MM)| \n",
    "|Yr Sold|  |  Year Sold (YYYY)| \n",
    "|Sale Type|  | Type of sale |\n",
    "|SalePrice|  |  Condition of sale|"
   ]
  },
  {
   "cell_type": "markdown",
   "metadata": {},
   "source": [
    "### Section 3 Identify missing data  <a id='identify-missing_Data'></a>\n",
    "\n",
    "The  following query identifies the missing columns.\n",
    "26 columns  out of 78 feature columns have atlease one more missing values.\n",
    " \n",
    "###### Categorical columns with missing data  are as follows\n",
    "Pool Q,\n",
    "Fence,\n",
    "Misc Feature\n",
    "Alley',\n",
    "Fireplace Qu, \n",
    "Mas Vnr Type', \n",
    "'Bsmt Qual', 'Bsmt Cond', 'Bsmt Exposure','BsmtFin Type 1', 'BsmtFin Type 2', \n",
    "'Garage Type','Garage Finish', 'Garage Qual', 'Garage Cond', "
   ]
  },
  {
   "cell_type": "code",
   "execution_count": 3,
   "metadata": {},
   "outputs": [
    {
     "data": {
      "text/plain": [
       "Index(['Alley', 'Mas Vnr Type', 'Bsmt Qual', 'Bsmt Cond', 'Bsmt Exposure',\n",
       "       'BsmtFin Type 1', 'BsmtFin Type 2', 'Fireplace Qu', 'Garage Type',\n",
       "       'Garage Finish', 'Garage Qual', 'Garage Cond', 'Pool QC', 'Fence',\n",
       "       'Misc Feature'],\n",
       "      dtype='object')"
      ]
     },
     "execution_count": 3,
     "metadata": {},
     "output_type": "execute_result"
    }
   ],
   "source": [
    "df[df.columns[df.isnull().any()]].select_dtypes(exclude =\"number\").columns"
   ]
  },
  {
   "cell_type": "markdown",
   "metadata": {},
   "source": [
    "###### Numerical columns with missing data\n",
    "Lot Frontage', 'Mas Vnr Area',\n",
    "'BsmtFin SF 1', 'BsmtFin SF 2','Bsmt Unf SF', 'Total Bsmt SF', 'Bsmt Full Bath', 'Bsmt Half Bath',\n",
    "'Garage Yr Blt', 'Garage Cars', 'Garage Area'"
   ]
  },
  {
   "cell_type": "code",
   "execution_count": 4,
   "metadata": {},
   "outputs": [
    {
     "data": {
      "text/plain": [
       "Index(['Lot Frontage', 'Mas Vnr Area', 'BsmtFin SF 1', 'BsmtFin SF 2',\n",
       "       'Bsmt Unf SF', 'Total Bsmt SF', 'Bsmt Full Bath', 'Bsmt Half Bath',\n",
       "       'Garage Yr Blt', 'Garage Cars', 'Garage Area'],\n",
       "      dtype='object')"
      ]
     },
     "execution_count": 4,
     "metadata": {},
     "output_type": "execute_result"
    }
   ],
   "source": [
    "df[df.columns[df.isnull().any()]].select_dtypes(include =\"number\").columns"
   ]
  },
  {
   "cell_type": "markdown",
   "metadata": {},
   "source": [
    "###### Missing columns with highest to lowest in ratio"
   ]
  },
  {
   "cell_type": "code",
   "execution_count": 5,
   "metadata": {},
   "outputs": [
    {
     "data": {
      "text/plain": [
       "Pool QC           99.561190\n",
       "Misc Feature      96.830814\n",
       "Alley             93.174061\n",
       "Fence             80.497318\n",
       "Fireplace Qu      48.756704\n",
       "Lot Frontage      16.089712\n",
       "Garage Yr Blt      5.558264\n",
       "Garage Cond        5.558264\n",
       "Garage Qual        5.558264\n",
       "Garage Finish      5.558264\n",
       "Garage Type        5.509508\n",
       "Bsmt Exposure      2.827889\n",
       "BsmtFin Type 2     2.730375\n",
       "Bsmt Cond          2.681619\n",
       "Bsmt Qual          2.681619\n",
       "BsmtFin Type 1     2.681619\n",
       "Mas Vnr Type       1.072647\n",
       "Mas Vnr Area       1.072647\n",
       "Bsmt Half Bath     0.097513\n",
       "Bsmt Full Bath     0.097513\n",
       "Garage Cars        0.048757\n",
       "BsmtFin SF 1       0.048757\n",
       "BsmtFin SF 2       0.048757\n",
       "Bsmt Unf SF        0.048757\n",
       "Garage Area        0.048757\n",
       "Total Bsmt SF      0.048757\n",
       "dtype: float64"
      ]
     },
     "execution_count": 5,
     "metadata": {},
     "output_type": "execute_result"
    }
   ],
   "source": [
    "column_null_counts = df.isnull().sum() *100/ len(df) #Filter to find missing data in percetage \n",
    "missing_data_columns =column_null_counts[column_null_counts >0] # get only columns where missing data  >0\n",
    "missing_data_columns.sort_values(ascending=False) # display them in highest missing data at top"
   ]
  },
  {
   "cell_type": "markdown",
   "metadata": {},
   "source": [
    "|Feature|percent missing |description|options|\n",
    "|---|---|---|---|\n",
    "| Pool QC|99.56| Pool quality | Ex -Excellent, Gd- Good,TA-Average/Typical,Fa-Fair,NA-No Pool|\n",
    "|Misc Feature|96.83| Miscellaneous feature not covered in other categories|Elev-Elevator, Gar2-2nd Garage (if not described in garage section, Othr-Other, Shed-Shed (over 100 SF)TenC-Tennis Court,NA-None|\n",
    "|Alley|93.17|Type of alley access to property|Grvl-Gravel,Pave-Paved, NA-No alley access|\n",
    "|Fence| 80.49|Fence quality| GdPrv- Good Privacy,MnPrv-Minimum Privacy,GdWo\tGood Wood,MnWw-Minimum Wood/Wire,NA\tNo Fence|\n",
    "|Fireplace Qu|48.75|Fireplace quality|Ex-Excellent Exceptional Masonry Fireplace,Gd-Good - Masonry Fireplace in main level,TA-Average - Prefabricated Fireplace in main living area or Masonry Fireplace in basement ,Fa-Fair - Prefabricated Fireplace in basement, Po\tPoor - Ben Franklin Stove,NA-No Fireplace"
   ]
  },
  {
   "cell_type": "markdown",
   "metadata": {},
   "source": [
    "### Section 4 Handling missing data  <a id='handling-missing_Data'></a>\n",
    "There are total 26 features that has missing atleast a value. Also , while most of the  columns have missing data less than 5  percent. There are 5 features where very high number of data is missing. Multiple stragtegies were  employed to impute or drop data and  we will disucss each column and the reasonings here .\n",
    "\n",
    "###### 1. Pool  and Fireplace  , Garage and basement   attributes were set to 'NA' when the pool or fireplace , garage or basement itself didn't exist.\n"
   ]
  },
  {
   "cell_type": "code",
   "execution_count": 6,
   "metadata": {},
   "outputs": [],
   "source": [
    "# Imputing missing column Pool quality\n",
    "# The records in question show 'pool area' =0  so there is no pool as  hence  it is safe to set NA  for Pool quality.\n",
    "missing_pool_quality = df['Pool QC'].isnull()\n",
    "pool_missing_quality_with_area_not_zero = (missing_pool_quality) & (df['Pool Area'] >0)\n",
    "df.loc[ (missing_pool_quality & (df['Pool Area'] ==0)),'Pool QC'] ='NA'\n",
    "\n",
    "# Imputing missing column fireplace Quality\n",
    "#The records in question show that there is no fireplace hence setting quality to NA.\n",
    "missing_fireplace_quality =df['Fireplace Qu'].isnull()\n",
    "missing_quality_when_no_fireplace =(missing_fireplace_quality) & (df['Fireplaces']==0)\n",
    "df.loc[missing_quality_when_no_fireplace,'Fireplace Qu'] ='NA'\n",
    "\n",
    "garage_area_zero = df['Garage Area'] == 0\n",
    "df.loc[(garage_area_zero & (df['Garage Cond'].isnull())),'Garage Cond'] ='NA'\n",
    "df.loc[(garage_area_zero & (df['Garage Finish'].isnull())),'Garage Finish'] ='NA'\n",
    "df.loc[(garage_area_zero & (df['Garage Yr Blt'].isnull())),'Garage Yr Blt'] =0\n",
    "df.loc[(garage_area_zero & (df['Garage Qual'].isnull())),'Garage Qual'] ='NA'\n",
    "df.loc[(garage_area_zero & (df['Garage Type'].isnull())),'Garage Type'] ='NA'\n",
    "\n",
    "zero_total_sqft_basement_area = df['Total Bsmt SF'] ==0  #Total square feet of basement area\n",
    "df.loc[ (zero_total_sqft_basement_area & (df['BsmtFin Type 2'].isnull())) ,'BsmtFin Type 2']='NA' #NA\tNo Basement\n",
    "df.loc[ (zero_total_sqft_basement_area & (df['BsmtFin Type 1'].isnull())) ,'BsmtFin Type 1']='NA' #NA\tNo Basement\n",
    "df.loc[ (zero_total_sqft_basement_area & (df['Bsmt Qual'].isnull())) ,'Bsmt Qual']='NA' #NA\tNo Basement\n",
    "df.loc[ (zero_total_sqft_basement_area & (df['Bsmt Cond'].isnull())) ,'Bsmt Cond']='NA' #NA\tNo Basement\n",
    "df.loc[ (zero_total_sqft_basement_area & (df['Bsmt Exposure'].isnull())) ,'Bsmt Exposure']='NA' #NA\tNo Basement\n",
    "df.loc[ (zero_total_sqft_basement_area & (df['Bsmt Half Bath'].isnull())) ,'Bsmt Half Bath']='NA' #NA\tNo Basement\n",
    "df.loc[ (zero_total_sqft_basement_area & (df['Bsmt Full Bath'].isnull())) ,'Bsmt Full Bath']='NA' #NA\tNo Basement\n",
    "df.loc[ (zero_total_sqft_basement_area & (df['Bsmt Unf SF'].isnull())) ,'Bsmt Unf SF']='NA' #NA\tNo Basement"
   ]
  },
  {
   "cell_type": "markdown",
   "metadata": {},
   "source": [
    "###### 2. columns 'Misc Feature' and  'Alley'  and 'Fence'\n",
    "indicates if house has any misclleneous feature which is  not covered  and type of access to alley. \n",
    "With 96% and 93% and 80 % missing data for the three columns .I  decided to assign no  NA for houses that were missing this information - as there is a high likelihood that houses that had no features and hence were left empty."
   ]
  },
  {
   "cell_type": "code",
   "execution_count": 7,
   "metadata": {},
   "outputs": [],
   "source": [
    "missing_misc_feature = df['Misc Feature'].isnull()\n",
    "df.loc[missing_misc_feature, 'Misc Feature'] ='NA'\n",
    "\n",
    "missing_alley =df['Alley'].isnull()\n",
    "df.loc[missing_alley, 'Alley'] ='NA'\n",
    "\n",
    "missing_fence =df['Fence'].isnull()\n",
    "#df.drop(columns =['Misc Feature','Alley'],inplace =True)\n",
    "df.loc[missing_fence, 'Fence'] ='NA'"
   ]
  },
  {
   "cell_type": "markdown",
   "metadata": {},
   "source": [
    "###### 2. column  'Lot  frontage'  is  width of a lot, measured at the front part of the lot for a house.\n",
    "It would make sense that lot width and lot area are co-related calculating area would depend on width.\n",
    "Following scatter plot also demonstrates a positive , perhaps weak co-relation between the two.\n",
    "So I decided to populate the lot frontage using the average lot frontage for houses that have similar area  ( with in +/- 5 percent threshold)"
   ]
  },
  {
   "cell_type": "code",
   "execution_count": 8,
   "metadata": {},
   "outputs": [
    {
     "data": {
      "text/plain": [
       "<matplotlib.collections.PathCollection at 0x119e06d10>"
      ]
     },
     "execution_count": 8,
     "metadata": {},
     "output_type": "execute_result"
    },
    {
     "data": {
      "image/png": "[encoded data removed]",
      "text/plain": [
       "<Figure size 432x288 with 1 Axes>"
      ]
     },
     "metadata": {
      "needs_background": "light"
     },
     "output_type": "display_data"
    }
   ],
   "source": [
    "plt.scatter(df['Lot Area'],df['Lot Frontage'])"
   ]
  },
  {
   "cell_type": "code",
   "execution_count": 9,
   "metadata": {},
   "outputs": [],
   "source": [
    "missing_lot_frontage =df['Lot Frontage'].isnull()\n",
    "for lot_area in df[missing_lot_frontage]['Lot Area']:\n",
    "    lower_threshold_bracket =  lot_area-  (lot_area* 5/100)\n",
    "    upper_threshold_bracket =  lot_area +  (lot_area* 5/100)\n",
    "    lots_with_given_lot_area = (df['Lot Area'] > lower_threshold_bracket) & (df['Lot Area'] <upper_threshold_bracket)    \n",
    "    similar_lots_non_missing_frontage_count = len(df[lots_with_given_lot_area  & (~missing_lot_frontage)])\n",
    "    if similar_lots_non_missing_frontage_count >0: \n",
    "       most_common_frontage = df[lots_with_given_lot_area & (~missing_lot_frontage) ]['Lot Frontage'].mean()\n",
    "       df.loc[ (df['Lot Area'] == lot_area) & missing_lot_frontage ,'Lot Frontage'] =most_common_frontage\n",
    "        "
   ]
  },
  {
   "cell_type": "markdown",
   "metadata": {},
   "source": [
    "### Section 4 Handling missing data Iteration 2  ( 1or less than 1 % missing data)<a id='handling-missing_Data_2'></a>\n",
    "\n",
    "Lets re-run our query to analyze missing column information. We still have very small percent of missing data which we need to assign some number or drop to be able to feed this data to the model."
   ]
  },
  {
   "cell_type": "code",
   "execution_count": 10,
   "metadata": {},
   "outputs": [
    {
     "data": {
      "text/plain": [
       "Mas Vnr Type      1.072647\n",
       "Mas Vnr Area      1.072647\n",
       "Bsmt Exposure     0.195027\n",
       "Lot Frontage      0.146270\n",
       "BsmtFin Type 2    0.097513\n",
       "Garage Qual       0.048757\n",
       "Bsmt Qual         0.048757\n",
       "Bsmt Cond         0.048757\n",
       "BsmtFin Type 1    0.048757\n",
       "BsmtFin SF 1      0.048757\n",
       "Garage Cond       0.048757\n",
       "Bsmt Unf SF       0.048757\n",
       "Total Bsmt SF     0.048757\n",
       "Bsmt Full Bath    0.048757\n",
       "Bsmt Half Bath    0.048757\n",
       "Garage Yr Blt     0.048757\n",
       "Garage Finish     0.048757\n",
       "Garage Cars       0.048757\n",
       "Garage Area       0.048757\n",
       "BsmtFin SF 2      0.048757\n",
       "dtype: float64"
      ]
     },
     "execution_count": 10,
     "metadata": {},
     "output_type": "execute_result"
    }
   ],
   "source": [
    "column_null_counts = df.isnull().sum() *100/ len(df) #Filter to find missing data in percetage \n",
    "missing_data_columns =column_null_counts[column_null_counts >0] # get only columns where missing data  >0\n",
    "missing_data_columns.sort_values(ascending=False) # display them in highest missing data at top"
   ]
  },
  {
   "cell_type": "code",
   "execution_count": 11,
   "metadata": {},
   "outputs": [
    {
     "data": {
      "text/plain": [
       "Series([], Name: Total Bsmt SF, dtype: int64)"
      ]
     },
     "execution_count": 11,
     "metadata": {},
     "output_type": "execute_result"
    }
   ],
   "source": [
    "basement_columns = ['Total Bsmt SF','Bsmt Unf SF','BsmtFin SF 1','BsmtFin SF 2','BsmtFin Type 1','BsmtFin Type 2','Bsmt Exposure','Bsmt Qual','Bsmt Cond','Bsmt Half Bath','Bsmt Full Bath']\n",
    "df[df['Bsmt Half Bath'].isnull()][basement_columns]['Total Bsmt SF'].value_counts()\n"
   ]
  },
  {
   "cell_type": "markdown",
   "metadata": {},
   "source": [
    "###### . If to many columns are missing  drop the  rows al-together\n",
    "My first attempt is to find is multiple columns are empty  and is so then dropping the row than tryign to fill all the values as  hence I am going to drop the following 2 rows."
   ]
  },
  {
   "cell_type": "code",
   "execution_count": 12,
   "metadata": {},
   "outputs": [],
   "source": [
    "df= df[~(df['Bsmt Qual'].isnull() &\n",
    "   df['Bsmt Exposure'].isnull() &\n",
    "   df['BsmtFin Type 1'].isnull() &\n",
    "   df['BsmtFin Type 2'].isnull() &\n",
    "   df['Bsmt Cond'].isnull() &\n",
    "   df['Total Bsmt SF'].isnull() &\n",
    "   df['Bsmt Full Bath'].isnull() )\n",
    "  ]\n",
    "df =df[~(df['Garage Finish'].isnull() &\n",
    "   df['Garage Cars'].isnull() &\n",
    "   df['Garage Area'].isnull() &\n",
    "   df['Garage Qual'].isnull() &\n",
    "   df['Garage Cond'].isnull() )\n",
    "  ]"
   ]
  },
  {
   "cell_type": "markdown",
   "metadata": {},
   "source": [
    "######   opt in for most conservative option as  no option is  spcified on Masaonary venner type\n",
    "For Masonry veneer type , among the  four options . None, Brkface,Stone,BrkCmn - I decided to opt for none as that was the most common choice among houses.\n",
    "Choosing Masonry veneer type  to none will mean the area to be zero"
   ]
  },
  {
   "cell_type": "code",
   "execution_count": 13,
   "metadata": {},
   "outputs": [],
   "source": [
    "df.loc[df['Mas Vnr Area'].isnull(),'Mas Vnr Area'] = 0\n",
    "df.loc[df['Mas Vnr Type'].isnull(),'Mas Vnr Type'] = 'None'"
   ]
  },
  {
   "cell_type": "markdown",
   "metadata": {},
   "source": [
    "######   Replacing these  missing data with  just  a value  without loosing data in  other columns for these row  model can work and we have all numbers,"
   ]
  },
  {
   "cell_type": "code",
   "execution_count": 14,
   "metadata": {},
   "outputs": [],
   "source": [
    "df['Bsmt Exposure'].fillna('no_clue',inplace =True)\n",
    "df['Lot Frontage'].fillna(\"-99\",inplace=True)\n",
    "df['BsmtFin Type 2'].fillna('no_clue',inplace=True)"
   ]
  },
  {
   "cell_type": "markdown",
   "metadata": {},
   "source": [
    "### Section 5 Distribution examination and description<a id='dist_exam_and_describe'></a>"
   ]
  },
  {
   "cell_type": "code",
   "execution_count": 15,
   "metadata": {},
   "outputs": [
    {
     "data": {
      "text/html": [
       "<div>\n",
       "<style scoped>\n",
       "    .dataframe tbody tr th:only-of-type {\n",
       "        vertical-align: middle;\n",
       "    }\n",
       "\n",
       "    .dataframe tbody tr th {\n",
       "        vertical-align: top;\n",
       "    }\n",
       "\n",
       "    .dataframe thead th {\n",
       "        text-align: right;\n",
       "    }\n",
       "</style>\n",
       "<table border=\"1\" class=\"dataframe\">\n",
       "  <thead>\n",
       "    <tr style=\"text-align: right;\">\n",
       "      <th></th>\n",
       "      <th>Id</th>\n",
       "      <th>PID</th>\n",
       "      <th>MS SubClass</th>\n",
       "      <th>MS Zoning</th>\n",
       "      <th>Lot Frontage</th>\n",
       "      <th>Lot Area</th>\n",
       "      <th>Street</th>\n",
       "      <th>Alley</th>\n",
       "      <th>Lot Shape</th>\n",
       "      <th>Land Contour</th>\n",
       "      <th>...</th>\n",
       "      <th>Screen Porch</th>\n",
       "      <th>Pool Area</th>\n",
       "      <th>Pool QC</th>\n",
       "      <th>Fence</th>\n",
       "      <th>Misc Feature</th>\n",
       "      <th>Misc Val</th>\n",
       "      <th>Mo Sold</th>\n",
       "      <th>Yr Sold</th>\n",
       "      <th>Sale Type</th>\n",
       "      <th>SalePrice</th>\n",
       "    </tr>\n",
       "  </thead>\n",
       "  <tbody>\n",
       "    <tr>\n",
       "      <th>0</th>\n",
       "      <td>109</td>\n",
       "      <td>533352170</td>\n",
       "      <td>60</td>\n",
       "      <td>RL</td>\n",
       "      <td>85.5051</td>\n",
       "      <td>13517</td>\n",
       "      <td>Pave</td>\n",
       "      <td>NA</td>\n",
       "      <td>IR1</td>\n",
       "      <td>Lvl</td>\n",
       "      <td>...</td>\n",
       "      <td>0</td>\n",
       "      <td>0</td>\n",
       "      <td>NA</td>\n",
       "      <td>NA</td>\n",
       "      <td>NA</td>\n",
       "      <td>0</td>\n",
       "      <td>3</td>\n",
       "      <td>2010</td>\n",
       "      <td>WD</td>\n",
       "      <td>130500</td>\n",
       "    </tr>\n",
       "    <tr>\n",
       "      <th>1</th>\n",
       "      <td>544</td>\n",
       "      <td>531379050</td>\n",
       "      <td>60</td>\n",
       "      <td>RL</td>\n",
       "      <td>43</td>\n",
       "      <td>11492</td>\n",
       "      <td>Pave</td>\n",
       "      <td>NA</td>\n",
       "      <td>IR1</td>\n",
       "      <td>Lvl</td>\n",
       "      <td>...</td>\n",
       "      <td>0</td>\n",
       "      <td>0</td>\n",
       "      <td>NA</td>\n",
       "      <td>NA</td>\n",
       "      <td>NA</td>\n",
       "      <td>0</td>\n",
       "      <td>4</td>\n",
       "      <td>2009</td>\n",
       "      <td>WD</td>\n",
       "      <td>220000</td>\n",
       "    </tr>\n",
       "    <tr>\n",
       "      <th>2</th>\n",
       "      <td>153</td>\n",
       "      <td>535304180</td>\n",
       "      <td>20</td>\n",
       "      <td>RL</td>\n",
       "      <td>68</td>\n",
       "      <td>7922</td>\n",
       "      <td>Pave</td>\n",
       "      <td>NA</td>\n",
       "      <td>Reg</td>\n",
       "      <td>Lvl</td>\n",
       "      <td>...</td>\n",
       "      <td>0</td>\n",
       "      <td>0</td>\n",
       "      <td>NA</td>\n",
       "      <td>NA</td>\n",
       "      <td>NA</td>\n",
       "      <td>0</td>\n",
       "      <td>1</td>\n",
       "      <td>2010</td>\n",
       "      <td>WD</td>\n",
       "      <td>109000</td>\n",
       "    </tr>\n",
       "    <tr>\n",
       "      <th>3</th>\n",
       "      <td>318</td>\n",
       "      <td>916386060</td>\n",
       "      <td>60</td>\n",
       "      <td>RL</td>\n",
       "      <td>73</td>\n",
       "      <td>9802</td>\n",
       "      <td>Pave</td>\n",
       "      <td>NA</td>\n",
       "      <td>Reg</td>\n",
       "      <td>Lvl</td>\n",
       "      <td>...</td>\n",
       "      <td>0</td>\n",
       "      <td>0</td>\n",
       "      <td>NA</td>\n",
       "      <td>NA</td>\n",
       "      <td>NA</td>\n",
       "      <td>0</td>\n",
       "      <td>4</td>\n",
       "      <td>2010</td>\n",
       "      <td>WD</td>\n",
       "      <td>174000</td>\n",
       "    </tr>\n",
       "    <tr>\n",
       "      <th>4</th>\n",
       "      <td>255</td>\n",
       "      <td>906425045</td>\n",
       "      <td>50</td>\n",
       "      <td>RL</td>\n",
       "      <td>82</td>\n",
       "      <td>14235</td>\n",
       "      <td>Pave</td>\n",
       "      <td>NA</td>\n",
       "      <td>IR1</td>\n",
       "      <td>Lvl</td>\n",
       "      <td>...</td>\n",
       "      <td>0</td>\n",
       "      <td>0</td>\n",
       "      <td>NA</td>\n",
       "      <td>NA</td>\n",
       "      <td>NA</td>\n",
       "      <td>0</td>\n",
       "      <td>3</td>\n",
       "      <td>2010</td>\n",
       "      <td>WD</td>\n",
       "      <td>138500</td>\n",
       "    </tr>\n",
       "  </tbody>\n",
       "</table>\n",
       "<p>5 rows × 81 columns</p>\n",
       "</div>"
      ],
      "text/plain": [
       "    Id        PID  MS SubClass MS Zoning Lot Frontage  Lot Area Street Alley  \\\n",
       "0  109  533352170           60        RL      85.5051     13517   Pave    NA   \n",
       "1  544  531379050           60        RL           43     11492   Pave    NA   \n",
       "2  153  535304180           20        RL           68      7922   Pave    NA   \n",
       "3  318  916386060           60        RL           73      9802   Pave    NA   \n",
       "4  255  906425045           50        RL           82     14235   Pave    NA   \n",
       "\n",
       "  Lot Shape Land Contour  ... Screen Porch Pool Area Pool QC Fence  \\\n",
       "0       IR1          Lvl  ...            0         0      NA    NA   \n",
       "1       IR1          Lvl  ...            0         0      NA    NA   \n",
       "2       Reg          Lvl  ...            0         0      NA    NA   \n",
       "3       Reg          Lvl  ...            0         0      NA    NA   \n",
       "4       IR1          Lvl  ...            0         0      NA    NA   \n",
       "\n",
       "  Misc Feature Misc Val Mo Sold Yr Sold  Sale Type  SalePrice  \n",
       "0           NA        0       3    2010        WD      130500  \n",
       "1           NA        0       4    2009        WD      220000  \n",
       "2           NA        0       1    2010        WD      109000  \n",
       "3           NA        0       4    2010        WD      174000  \n",
       "4           NA        0       3    2010        WD      138500  \n",
       "\n",
       "[5 rows x 81 columns]"
      ]
     },
     "execution_count": 15,
     "metadata": {},
     "output_type": "execute_result"
    }
   ],
   "source": [
    "df.head()"
   ]
  },
  {
   "cell_type": "markdown",
   "metadata": {},
   "source": [
    "### Section 6 Save cleaned data frame  toa file><a id= 'save_cleaned_dataframe></a>"
   ]
  },
  {
   "cell_type": "code",
   "execution_count": 16,
   "metadata": {},
   "outputs": [],
   "source": [
    "df.to_csv(\"train_cleaned.csv\")"
   ]
  },
  {
   "cell_type": "markdown",
   "metadata": {},
   "source": [
    "<a id='References'/>"
   ]
  },
  {
   "cell_type": "markdown",
   "metadata": {},
   "source": [
    "###### References\n",
    "\n",
    " General assembly . - EDA Walkthrough  Notebook\n",
    " https://www.gimme-shelter.com/frontage-50043/ : width at the front is also known as frontage\n",
    " https://medium.com/@george.drakos62/handling-missing-values-in-machine-learning-part-1-dda69d4f88ca?\n",
    " creating table of index : https://sebastianraschka.com/Articles/2014_ipython_internal_links.html\n",
    " https://stackoverflow.com/questions/37366717/pandas-print-column-name-with-missing-values"
   ]
  },
  {
   "cell_type": "code",
   "execution_count": 17,
   "metadata": {},
   "outputs": [],
   "source": [
    "missing_data_columns = ['Bsmt Exposure','BsmtFin Type 1','BsmtFin Type 2',\n",
    "                        'Bsmt Qual','Bsmt Cond','BsmtFin SF 1',\n",
    "                        'Bsmt Unf SF','Total Bsmt SF','Bsmt Full Bath','Bsmt Half Bath','Garage Yr Blt']\n",
    "#'Garage Finish','Garage Cars','Garage Area','Garage Qual','Garage Cond']\n",
    "#'Mas Vnr Type','Mas Vnr Area',\n",
    "#len(df[df.isnull().all(axis=1)][missing_data_columns])\n",
    "#'Lot Frontage'"
   ]
  }
 ],
 "metadata": {
  "kernelspec": {
   "display_name": "Python 3",
   "language": "python",
   "name": "python3"
  },
  "language_info": {
   "codemirror_mode": {
    "name": "ipython",
    "version": 3
   },
   "file_extension": ".py",
   "mimetype": "text/x-python",
   "name": "python",
   "nbconvert_exporter": "python",
   "pygments_lexer": "ipython3",
   "version": "3.7.4"
  }
 },
 "nbformat": 4,
 "nbformat_minor": 2
}
