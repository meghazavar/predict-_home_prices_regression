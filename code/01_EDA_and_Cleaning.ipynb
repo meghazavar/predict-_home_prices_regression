{
 "cells": [
  {
   "cell_type": "markdown",
   "metadata": {},
   "source": [
    "\n",
    "- [ ] [Packages and data import](#import_package)\n",
    "- [ ] [section 2 High level overview of columns](#high_level_overview_of_columns)\n",
    "- [ ] [section 3 Identify missing data ](#identify-missing_Data)\n",
    "- [ ] [section 4.A Handling missing Training data ](#handling-missing_Data)\n",
    "- [ ] [section 4.B Handling missing Test data](#handling-missing_Data)\n",
    "- [ ] [section 5 distributions examinination and description](#dist_exam_and_describe)\n",
    "- [ ] [section 6 Save cleaned data frame to a file](#dist_exam_and_describe)\n",
    "- [ ] [Section  - Refeneces](#References)\n",
    "### Section 4B cleaning Test dataset<a id='cleaning_test_dataset'></a>"
   ]
  },
  {
   "cell_type": "markdown",
   "metadata": {},
   "source": [
    "\n",
    "- [x]Are missing values imputed appropriately?\n",
    "- [ ]Are distributions examined and described?\n",
    "- [ ]Are outliers identified and addressed?\n",
    "- [ ]Are appropriate summary statistics provided?\n",
    "- [ ]Are steps taken during data cleaning and EDA framed appropriately?\n",
    "- [ ]Does the student address whether or not they are likely to be able to answer their problem statement with the -provided data given what they've discovered during EDA?"
   ]
  },
  {
   "cell_type": "markdown",
   "metadata": {},
   "source": [
    "<a id=\"import_package>\n",
    "### Section 1: Packages and data import"
   ]
  },
  {
   "cell_type": "markdown",
   "metadata": {},
   "source": [
    "<a id=\"high_level_overview_of_columns\">\n",
    "    \n",
    "### Section 2: High level  overview of columns\n",
    "A detailed dictionary can be found under the documents folder.Following tables provide a quick summary of data available.\n",
    "There are 78 attributes of a house provided."
   ]
  },
  {
   "cell_type": "markdown",
   "metadata": {},
   "source": [
    "|Feature|Type|Description|\n",
    "|---|---|---|\n",
    "|state|object|SAT|\n",
    "|Id|  |  | \n",
    "|PID|  |  | \n",
    "|MS SubClass|  |  Identifies the type of dwelling involved in the sale.| \n",
    "|MS Zoning|  | Identifies the general zoning classification of the sale | \n",
    "|Lot Frontage|  | Linear feet of street connected to property | \n",
    "|Lot Area|  |  Lot size in square feet|\n",
    "|Street|  | Type of road access to property | \n",
    "|Alley|  | Type of alley access to property | \n",
    "|Lot Shape|  | General shape of property | \n",
    "|Land Contour|  | Flatness of the property | \n",
    "|Utilities|  |  Type of utilities available|\n",
    "|Lot Config|  | Lot configuration | \n",
    "|Land Slope|  | Slope of property | \n",
    "|Neighborhood|  |Physical locations within Ames city limits  | \n",
    "|Condition 1|  | Proximity to various conditions |\n",
    "|Condition 2|  | Proximity to various conditions (if more than one is present) | \n",
    "|Bldg Type|  |  Type of dwelling| '\n",
    "|House Style|  | Style of dwelling | \n",
    "|Overall Qual|  | Rates the overall material and finish of the house |\n",
    "|Overall Cond|  |Rates the overall condition of the house  | \n",
    "|Year Built|  | Original construction date | \n",
    "|Year Remod/Add|  | Remodel date (same as construction date if no remodeling or additions) | \n",
    "|Roof Style|  |  Type of roof|\n",
    "|Roof Matl|  | Roof material | \n",
    "|Exterior 1st|  | Exterior covering on house | \n",
    "|Exterior 2nd|  | Exterior covering on house (if more than one material) | \n",
    "|Mas Vnr Type|  | Masonry veneer type |\n",
    "|Mas Vnr Area|  | Masonry veneer area in square feet | \n",
    "|Exter Qual|  | Evaluates the quality of the material on the exterior | \n",
    "|Exter Cond|  | Evaluates the present condition of the material on the exterior | \n",
    "|Foundation|  | Type of foundation | \n",
    "|Bsmt Qual|  |  Evaluates the height of the basement|\n",
    "|Bsmt Cond|  |  Evaluates the general condition of the basement| \n",
    "|Bsmt Exposure|  | Refers to walkout or garden level walls | \n",
    "|BsmtFin Type 1|  | Rating of basement finished area | \n",
    "|BsmtFin SF 1|  | Type 1 finished square feet |\n",
    "|BsmtFin Type 2|  |Rating of basement finished area (if multiple types)  | \n",
    "|BsmtFin SF 2|  | Type 2 finished square feet | \n",
    "|Bsmt Unf SF|  | Unfinished square feet of basement area | \n",
    "|Total Bsmt SF|  |Total square feet of basement area  |\n",
    "|Heating|  | Type of heating | \n",
    "|Heating QC|  | Heating quality and condition | \n",
    "|Central Air|  | Central air conditioning | \n",
    "|Electrical|  | Electrical system | \n",
    "|1st Flr SF|  |  First Floor square feet|\n",
    "|2nd Flr SF|  | Second floor square feet | \n",
    "|Low Qual Fin SF|  | Low quality finished square feet (all floors) | \n",
    "|Gr Liv Area|  | Above grade (ground) living area square feet | \n",
    "|Bsmt Full Bath|  | Basement full bathrooms |\n",
    "|Bsmt Half Bath|  | Basement half bathrooms | \n",
    "|Full Bath|  |  Full bathrooms above grade| \n",
    "|Half Bath|  |  Half baths above grade| \n",
    "|Bedroom AbvGr|  | Bedrooms above grade (does NOT include basement bedrooms) |\n",
    "|Kitchen AbvGr|  | Kitchens above grade | \n",
    "|Kitchen Qual|  | Kitchen quality | \n",
    "|TotRms AbvGrd|  | Total rooms above grade (does not include bathrooms) | \n",
    "|Functional|  |  Home functionality (Assume typical unless deductions are warranted)|\n",
    "|Fireplaces|  |  Number of fireplaces| \n",
    "|Fireplace Qu|  | Fireplace quality | \n",
    "|Garage Type|  | Garage location | \n",
    "|Garage Yr Blt|  | Year garage was built |\n",
    "|Garage Finish|  | Interior finish of the garage | \n",
    "|Garage Cars|  | Size of garage in car capacity | \n",
    "|Garage Area|  | Size of garage in square feet | \n",
    "|Garage Qual|  | Garage quality |\n",
    "|Garage Cond|  | Garage condition | \n",
    "|Paved Drive|  | Paved driveway | \n",
    "|Wood Deck SF|  | Wood deck area in square feet | \n",
    "|Open Porch SF|  | Open porch area in square feet |\n",
    "|Enclosed Porch|  | Enclosed porch area in square feet | \n",
    "|3Ssn Porch|  | Three season porch area in square feet | \n",
    "|Screen Porch|  | Screen porch area in square feet | \n",
    "|Pool Area|  |  Pool area in square feet| \n",
    "|**Pool QC** | string | Pool quality |\n",
    "|Fence|  | Fence quality | \n",
    "|Misc Feature|  | Miscellaneous feature not covered in other categories  | \n",
    "|Misc Val|  |  $Value of miscellaneous feature| \n",
    "|Mo Sold|  |  Month Sold (MM)| \n",
    "|Yr Sold|  |  Year Sold (YYYY)| \n",
    "|Sale Type|  | Type of sale |\n",
    "|SalePrice|  |  Condition of sale|"
   ]
  },
  {
   "cell_type": "code",
   "execution_count": 54,
   "metadata": {},
   "outputs": [],
   "source": [
    "import pandas as pd\n",
    "import numpy as np\n",
    "import seaborn as sns\n",
    "import matplotlib.pyplot as plt\n",
    "%matplotlib inline\n",
    "from clean import DataCleaner;"
   ]
  },
  {
   "cell_type": "code",
   "execution_count": 55,
   "metadata": {},
   "outputs": [
    {
     "data": {
      "text/plain": [
       "((2051, 81), (878, 80))"
      ]
     },
     "execution_count": 55,
     "metadata": {},
     "output_type": "execute_result"
    }
   ],
   "source": [
    "train_df =pd.read_csv(\"../datasets/train.csv\")\n",
    "test_df =pd.read_csv(\"../datasets/test.csv\")\n",
    "\n",
    "train_ds_cleaner = DataCleaner(train_df)\n",
    "test_ds_cleaner =DataCleaner(test_df)\n",
    "\n",
    "train_df.shape ,test_df.shape"
   ]
  },
  {
   "cell_type": "markdown",
   "metadata": {},
   "source": [
    "### Section 3 Identify missing data  <a id='identify-missing_Data'></a>\n",
    "\n",
    "The  following query identifies the missing columns.\n",
    "26 columns  out of 78 feature columns have atlease one more missing values.\n",
    " \n",
    "###### Categorical columns with missing data  are as follows\n",
    "Pool Q,\n",
    "Fence,\n",
    "Misc Feature\n",
    "Alley',\n",
    "Fireplace Qu, \n",
    "Mas Vnr Type', \n",
    "'Bsmt Qual', 'Bsmt Cond', 'Bsmt Exposure','BsmtFin Type 1', 'BsmtFin Type 2', \n",
    "'Garage Type','Garage Finish', 'Garage Qual', 'Garage Cond', "
   ]
  },
  {
   "cell_type": "code",
   "execution_count": 56,
   "metadata": {},
   "outputs": [
    {
     "name": "stdout",
     "output_type": "stream",
     "text": [
      "missing non-numerical columns\n",
      " training :       Alley Mas Vnr Type Bsmt Qual Bsmt Cond Bsmt Exposure BsmtFin Type 1 BsmtFin Type 2 Fireplace Qu Garage Type Garage Finish Garage Qual Garage Cond Pool QC Fence Misc Feature\n",
      "\n",
      " test:Alley Mas Vnr Type Bsmt Qual Bsmt Cond Bsmt Exposure BsmtFin Type 1 BsmtFin Type 2 Electrical Fireplace Qu Garage Type Garage Finish Garage Qual Garage Cond Pool QC Fence Misc Feature\n"
     ]
    }
   ],
   "source": [
    "#train_df[train_ds_cleaner.missing_non_numerical_columns()].isnull().any() \n",
    "miss_nonnum_train_cols = ' '.join(train_ds_cleaner.missing_non_numerical_columns())\n",
    "miss_nonnum_test_cols = ' '.join(test_ds_cleaner.missing_non_numerical_columns())\n",
    "print( f'missing non-numerical columns\\n training : \\\n",
    "      {miss_nonnum_train_cols}\\n\\n test:{miss_nonnum_test_cols}')"
   ]
  },
  {
   "cell_type": "code",
   "execution_count": 57,
   "metadata": {},
   "outputs": [
    {
     "data": {
      "text/plain": [
       "Index(['Id', 'PID', 'MS SubClass', 'Lot Frontage', 'Lot Area', 'Overall Qual',\n",
       "       'Overall Cond', 'Year Built', 'Year Remod/Add', 'Mas Vnr Area',\n",
       "       'BsmtFin SF 1', 'BsmtFin SF 2', 'Bsmt Unf SF', 'Total Bsmt SF',\n",
       "       '1st Flr SF', '2nd Flr SF', 'Low Qual Fin SF', 'Gr Liv Area',\n",
       "       'Bsmt Full Bath', 'Bsmt Half Bath', 'Full Bath', 'Half Bath',\n",
       "       'Bedroom AbvGr', 'Kitchen AbvGr', 'TotRms AbvGrd', 'Fireplaces',\n",
       "       'Garage Yr Blt', 'Garage Cars', 'Garage Area', 'Wood Deck SF',\n",
       "       'Open Porch SF', 'Enclosed Porch', '3Ssn Porch', 'Screen Porch',\n",
       "       'Pool Area', 'Misc Val', 'Mo Sold', 'Yr Sold', 'SalePrice'],\n",
       "      dtype='object')"
      ]
     },
     "execution_count": 57,
     "metadata": {},
     "output_type": "execute_result"
    }
   ],
   "source": [
    "train_df.select_dtypes(include =\"number\").columns"
   ]
  },
  {
   "cell_type": "code",
   "execution_count": 58,
   "metadata": {},
   "outputs": [
    {
     "data": {
      "text/plain": [
       "dtype('int64')"
      ]
     },
     "execution_count": 58,
     "metadata": {},
     "output_type": "execute_result"
    }
   ],
   "source": [
    "#train_df[train_df.select_dtypes(exclude =\"number\").columns].head().T\n",
    "\n",
    "\n",
    "#Bsmt Unf SF\n",
    "#train_df['Bsmt Full Bath'].sort_values() /train_df['Bsmt Half Bath']   \n",
    "\n",
    "train_df['Overall Qual'].dtype"
   ]
  },
  {
   "cell_type": "markdown",
   "metadata": {},
   "source": [
    "######  Rename all Ordinal columns to begin with ord"
   ]
  },
  {
   "cell_type": "code",
   "execution_count": 59,
   "metadata": {},
   "outputs": [
    {
     "data": {
      "text/plain": [
       "Index(['ord_Lot Shape', 'ord_Utilities', 'ord_Land Slope', 'ord_Overall Qual',\n",
       "       'ord_Overall Cond', 'ord_Exter Qual', 'ord_Exter Cond', 'ord_Bsmt Qual',\n",
       "       'ord_Bsmt Cond', 'ord_Bsmt Exposure', 'ord_BsmtFin Type 1',\n",
       "       'ord_BsmtFin Type 2', 'ord_Heating QC', 'ord_Electrical',\n",
       "       'ord_Kitchen Qual', 'ord_Functional', 'ord_Fireplace Qu',\n",
       "       'ord_Garage Finish', 'ord_Garage Qual', 'ord_Garage Cond',\n",
       "       'ord_Paved Drive', 'ord_Pool QC', 'ord_Fence'],\n",
       "      dtype='object')"
      ]
     },
     "execution_count": 59,
     "metadata": {},
     "output_type": "execute_result"
    }
   ],
   "source": [
    "train_ds_cleaner.prefix_ordinal_column_names()\n",
    "test_ds_cleaner.prefix_ordinal_column_names()\n",
    "test_df.columns[test_df.columns.str.startswith('ord')]"
   ]
  },
  {
   "cell_type": "markdown",
   "metadata": {},
   "source": [
    "###### Numerical columns with missing data\n",
    "Lot Frontage', 'Mas Vnr Area',\n",
    "'BsmtFin SF 1', 'BsmtFin SF 2','Bsmt Unf SF', 'Total Bsmt SF', 'Bsmt Full Bath', 'Bsmt Half Bath',\n",
    "'Garage Yr Blt', 'Garage Cars', 'Garage Area'"
   ]
  },
  {
   "cell_type": "code",
   "execution_count": 60,
   "metadata": {},
   "outputs": [
    {
     "name": "stdout",
     "output_type": "stream",
     "text": [
      "missing numerical columns\n",
      " training :       Lot Frontage Mas Vnr Area BsmtFin SF 1 BsmtFin SF 2 Bsmt Unf SF Total Bsmt SF Bsmt Full Bath Bsmt Half Bath Garage Yr Blt Garage Cars Garage Area\n",
      "\n",
      " test:Lot Frontage Mas Vnr Area Garage Yr Blt\n"
     ]
    }
   ],
   "source": [
    "#train_df[train_df.columns[train_df.isnull().any()]].select_dtypes(include =\"number\").columns\n",
    "missing_num_train_cols = ' '.join(train_ds_cleaner.missing_numerical_columns())\n",
    "missing_num_test_cols = ' '.join(test_ds_cleaner.missing_numerical_columns())\n",
    "print( f'missing numerical columns\\n training : \\\n",
    "      {missing_num_train_cols}\\n\\n test:{missing_num_test_cols}')"
   ]
  },
  {
   "cell_type": "markdown",
   "metadata": {},
   "source": [
    "###### Missing columns with highest to lowest in ratio"
   ]
  },
  {
   "cell_type": "code",
   "execution_count": 61,
   "metadata": {},
   "outputs": [
    {
     "name": "stdout",
     "output_type": "stream",
     "text": [
      "ord_Pool QC           99.561190\n",
      "Misc Feature          96.830814\n",
      "Alley                 93.174061\n",
      "ord_Fence             80.497318\n",
      "ord_Fireplace Qu      48.756704\n",
      "Lot Frontage          16.089712\n",
      "Garage Yr Blt          5.558264\n",
      "ord_Garage Cond        5.558264\n",
      "ord_Garage Qual        5.558264\n",
      "ord_Garage Finish      5.558264\n",
      "Garage Type            5.509508\n",
      "ord_Bsmt Exposure      2.827889\n",
      "ord_BsmtFin Type 2     2.730375\n",
      "ord_Bsmt Cond          2.681619\n",
      "ord_Bsmt Qual          2.681619\n",
      "ord_BsmtFin Type 1     2.681619\n",
      "Mas Vnr Type           1.072647\n",
      "Mas Vnr Area           1.072647\n",
      "Bsmt Half Bath         0.097513\n",
      "Bsmt Full Bath         0.097513\n",
      "Garage Cars            0.048757\n",
      "BsmtFin SF 1           0.048757\n",
      "BsmtFin SF 2           0.048757\n",
      "Bsmt Unf SF            0.048757\n",
      "Garage Area            0.048757\n",
      "Total Bsmt SF          0.048757\n",
      "dtype: float64\n"
     ]
    }
   ],
   "source": [
    "train_ds_cleaner.disp_missing_data()"
   ]
  },
  {
   "cell_type": "markdown",
   "metadata": {},
   "source": [
    "### Section 4.A  Handling missing training data  <a id='handling-missing_Data'></a>\n",
    "There are total 26 features that has missing atleast a value. Also , while most of the  columns have missing data less than 5  percent. There are 5 features where very high number of data is missing. Multiple stragtegies were  employed to impute or drop data and  we will disucss each column and the reasonings here .\n",
    "\n",
    "###### 1. Pool  and Fireplace  , Garage and basement   attributes were set to 'NA' when the pool or fireplace , garage or basement itself didn't exist.\n"
   ]
  },
  {
   "cell_type": "code",
   "execution_count": 62,
   "metadata": {},
   "outputs": [],
   "source": [
    "train_df =train_ds_cleaner.Replace_pool_quality_as_na_if_no_pool()\n",
    "train_df =train_ds_cleaner.Replace_fireplace_quality_as_na_if_no_fireplace()\n",
    "train_df =train_ds_cleaner.Replace_garage_attributes_as_na_if_no_garage()\n",
    "train_df =train_ds_cleaner.Replace_basement_attributes_as_na_if_no_basement()"
   ]
  },
  {
   "cell_type": "markdown",
   "metadata": {},
   "source": [
    "###### 2. columns 'Misc Feature' and  'Alley'  and 'Fence' attributes set to Na\n",
    "With 96% and 93% and 80 % missing data for the three columns respectively .I decided to assign no 'NA' for houses that were missing this information ."
   ]
  },
  {
   "cell_type": "code",
   "execution_count": 63,
   "metadata": {},
   "outputs": [],
   "source": [
    "train_df =train_ds_cleaner.Replace_misc_feature_as_na_if_null()\n",
    "train_df =train_ds_cleaner.Replace_access_to_Alley_as_na_if_null()\n",
    "train_df =train_ds_cleaner.Replace_fence_as_na_if_null()"
   ]
  },
  {
   "cell_type": "markdown",
   "metadata": {},
   "source": [
    "###### 2. column  'Lot  frontage'  is  width of a lot, measured at the front part of the lot for a house.\n",
    "It would make sense that lot width and lot area are co-related calculating area would depend on width.\n",
    "Following scatter plot also demonstrates a positive , perhaps weak co-relation between the two.\n",
    "So I decided to populate the lot frontage using the average lot frontage for houses that have similar area  ( with in +/- 5 percent threshold)"
   ]
  },
  {
   "cell_type": "code",
   "execution_count": 64,
   "metadata": {},
   "outputs": [
    {
     "data": {
      "text/plain": [
       "Text(0, 0.5, 'Lot frontage')"
      ]
     },
     "execution_count": 64,
     "metadata": {},
     "output_type": "execute_result"
    },
    {
     "data": {
      "image/png": "[encoded data removed]",
      "text/plain": [
       "<Figure size 432x288 with 1 Axes>"
      ]
     },
     "metadata": {
      "needs_background": "light"
     },
     "output_type": "display_data"
    }
   ],
   "source": [
    "plt.scatter(train_df['Lot Area'],train_df['Lot Frontage'])\n",
    "plt.xlabel(\"Lot area\")\n",
    "plt.ylabel(\"Lot frontage\")"
   ]
  },
  {
   "cell_type": "code",
   "execution_count": 65,
   "metadata": {},
   "outputs": [],
   "source": [
    "train_df =train_ds_cleaner.impute_lot_frontage_with_avg_of_similar_homes(5)"
   ]
  },
  {
   "cell_type": "markdown",
   "metadata": {},
   "source": [
    "######  If to many columns are missing  drop the  rows al-together\n",
    "My first attempt is to find is multiple columns are empty  and is so then dropping the row than tryign to fill all the values as  hence I am going to drop the following 2 rows."
   ]
  },
  {
   "cell_type": "code",
   "execution_count": 66,
   "metadata": {},
   "outputs": [],
   "source": [
    "train_df= train_df[~(train_df['ord_Bsmt Qual'].isnull() &\n",
    "   train_df['ord_Bsmt Exposure'].isnull() &train_df['Bsmt Full Bath'].isnull() &\n",
    "   train_df['ord_BsmtFin Type 1'].isnull() & train_df['ord_BsmtFin Type 2'].isnull() &\n",
    "   train_df['ord_Bsmt Cond'].isnull() & train_df['Total Bsmt SF'].isnull() \n",
    "    )\n",
    "  ]\n",
    "train_df =train_df[~(train_df['ord_Garage Finish'].isnull() &\n",
    "   train_df['Garage Cars'].isnull() &\n",
    "   train_df['Garage Area'].isnull() &\n",
    "   train_df['ord_Garage Qual'].isnull() &\n",
    "   train_df['ord_Garage Cond'].isnull() )\n",
    "  ]"
   ]
  },
  {
   "cell_type": "markdown",
   "metadata": {},
   "source": [
    "######   opt in for most conservative option as  no option is  spcified on Masaonary venner type\n",
    "For Masonry veneer type , among the  four options . None, Brkface,Stone,BrkCmn - I decided to opt for none as that was the most common choice among houses.\n",
    "Choosing Masonry veneer type  to none will mean the area to be zero"
   ]
  },
  {
   "cell_type": "code",
   "execution_count": 67,
   "metadata": {},
   "outputs": [],
   "source": [
    "train_df.loc[train_df['Mas Vnr Area'].isnull(),'Mas Vnr Area'] = 0\n",
    "train_df.loc[train_df['Mas Vnr Type'].isnull(),'Mas Vnr Type'] = 'None'\n",
    "train_df.loc[train_df['ord_Bsmt Exposure'].isnull(),'ord_Bsmt Exposure'] ='N_A'\n",
    "train_df.loc[train_df['ord_BsmtFin Type 2'].isnull(),'ord_BsmtFin Type 2']  = train_df.loc[train_df['ord_BsmtFin Type 2'].isnull(),['ord_BsmtFin Type 1']]"
   ]
  },
  {
   "cell_type": "markdown",
   "metadata": {},
   "source": [
    "######   Replacing these  missing data with  just  a value  without loosing data in  other columns for these row  model can work and we have all numbers,"
   ]
  },
  {
   "cell_type": "code",
   "execution_count": 68,
   "metadata": {},
   "outputs": [],
   "source": [
    "train_df.dropna(inplace=True)\n",
    "train_df.drop(columns=['PID','Id'],inplace=True)\n",
    "#test_df.drop(columns=['PID','Id'],inplace=True)"
   ]
  },
  {
   "cell_type": "markdown",
   "metadata": {},
   "source": [
    "### Section 4B cleaning Test dataset<a id='cleaning_test_dataset'></a>"
   ]
  },
  {
   "cell_type": "code",
   "execution_count": 69,
   "metadata": {},
   "outputs": [
    {
     "name": "stdout",
     "output_type": "stream",
     "text": [
      "ord_Pool QC           99.544419\n",
      "Misc Feature          95.330296\n",
      "Alley                 93.394077\n",
      "ord_Fence             80.410023\n",
      "ord_Fireplace Qu      48.063781\n",
      "Lot Frontage          18.223235\n",
      "Garage Yr Blt          5.125285\n",
      "ord_Garage Finish      5.125285\n",
      "ord_Garage Qual        5.125285\n",
      "ord_Garage Cond        5.125285\n",
      "Garage Type            5.011390\n",
      "ord_BsmtFin Type 2     2.847380\n",
      "ord_BsmtFin Type 1     2.847380\n",
      "ord_Bsmt Exposure      2.847380\n",
      "ord_Bsmt Cond          2.847380\n",
      "ord_Bsmt Qual          2.847380\n",
      "Mas Vnr Area           0.113895\n",
      "Mas Vnr Type           0.113895\n",
      "ord_Electrical         0.113895\n",
      "dtype: float64\n"
     ]
    }
   ],
   "source": [
    "test_ds_cleaner.disp_missing_data()"
   ]
  },
  {
   "cell_type": "code",
   "execution_count": 70,
   "metadata": {},
   "outputs": [],
   "source": [
    "test_df =test_ds_cleaner.Replace_pool_quality_as_na_if_no_pool()\n",
    "test_df =test_ds_cleaner.Replace_misc_feature_as_na_if_null()\n",
    "test_df =test_ds_cleaner.Replace_access_to_Alley_as_na_if_null()\n",
    "test_df =test_ds_cleaner.Replace_fence_as_na_if_null()\n",
    "test_df =test_ds_cleaner.Replace_fireplace_quality_as_na_if_no_fireplace()\n",
    "test_df =test_ds_cleaner.Replace_garage_attributes_as_na_if_no_garage()\n",
    "test_df =test_ds_cleaner.Replace_basement_attributes_as_na_if_no_basement()\n",
    "test_df.loc[test_df['Mas Vnr Area'].isnull(),'Mas Vnr Area'] = 0\n",
    "test_df.loc[test_df['Mas Vnr Type'].isnull(),'Mas Vnr Type'] = 'None'\n",
    "test_df.loc[test_df['ord_Bsmt Exposure'].isnull(),'ord_Bsmt Exposure'] ='N_A'\n",
    "test_df.loc[test_df['ord_Electrical'].isnull(),'ord_Electrical']='SBrkr'  # most common electrical\n",
    "test_df.loc[test_df['Garage Yr Blt'].isnull(),['ord_Garage Finish','ord_Garage Qual','ord_Garage Finish']] ='N_A'\n",
    "test_df.loc[test_df['ord_Garage Cond'].isnull(),'ord_Garage Cond'] ='N_A'\n",
    "\n",
    "test_df =test_ds_cleaner.impute_lot_frontage_with_avg_of_similar_homes(5)\n",
    "test_df =test_ds_cleaner.impute_lot_frontage_with_avg_of_similar_homes(10)\n",
    "test_df =test_ds_cleaner.impute_lot_frontage_with_avg_of_similar_homes(20)\n",
    "test_df =test_ds_cleaner.impute_lot_frontage_with_avg_of_similar_homes(40)"
   ]
  },
  {
   "cell_type": "code",
   "execution_count": 71,
   "metadata": {},
   "outputs": [
    {
     "data": {
      "text/html": [
       "<div>\n",
       "<style scoped>\n",
       "    .dataframe tbody tr th:only-of-type {\n",
       "        vertical-align: middle;\n",
       "    }\n",
       "\n",
       "    .dataframe tbody tr th {\n",
       "        vertical-align: top;\n",
       "    }\n",
       "\n",
       "    .dataframe thead th {\n",
       "        text-align: right;\n",
       "    }\n",
       "</style>\n",
       "<table border=\"1\" class=\"dataframe\">\n",
       "  <thead>\n",
       "    <tr style=\"text-align: right;\">\n",
       "      <th></th>\n",
       "      <th>Garage Type</th>\n",
       "      <th>Garage Yr Blt</th>\n",
       "      <th>Garage Area</th>\n",
       "      <th>Garage Cars</th>\n",
       "      <th>ord_Garage Cond</th>\n",
       "      <th>ord_Garage Finish</th>\n",
       "      <th>ord_Garage Qual</th>\n",
       "      <th>ord_Garage Finish</th>\n",
       "    </tr>\n",
       "  </thead>\n",
       "  <tbody>\n",
       "  </tbody>\n",
       "</table>\n",
       "</div>"
      ],
      "text/plain": [
       "Empty DataFrame\n",
       "Columns: [Garage Type, Garage Yr Blt, Garage Area, Garage Cars, ord_Garage Cond, ord_Garage Finish, ord_Garage Qual, ord_Garage Finish]\n",
       "Index: []"
      ]
     },
     "execution_count": 71,
     "metadata": {},
     "output_type": "execute_result"
    }
   ],
   "source": [
    "test_df.loc[test_df['ord_Garage Cond'].isnull(),garage_cols]"
   ]
  },
  {
   "cell_type": "code",
   "execution_count": 72,
   "metadata": {},
   "outputs": [
    {
     "data": {
      "text/html": [
       "<div>\n",
       "<style scoped>\n",
       "    .dataframe tbody tr th:only-of-type {\n",
       "        vertical-align: middle;\n",
       "    }\n",
       "\n",
       "    .dataframe tbody tr th {\n",
       "        vertical-align: top;\n",
       "    }\n",
       "\n",
       "    .dataframe thead th {\n",
       "        text-align: right;\n",
       "    }\n",
       "</style>\n",
       "<table border=\"1\" class=\"dataframe\">\n",
       "  <thead>\n",
       "    <tr style=\"text-align: right;\">\n",
       "      <th></th>\n",
       "      <th>Garage Type</th>\n",
       "      <th>Garage Yr Blt</th>\n",
       "      <th>Garage Area</th>\n",
       "      <th>Garage Cars</th>\n",
       "      <th>ord_Garage Cond</th>\n",
       "      <th>ord_Garage Finish</th>\n",
       "      <th>ord_Garage Qual</th>\n",
       "      <th>ord_Garage Finish</th>\n",
       "    </tr>\n",
       "  </thead>\n",
       "  <tbody>\n",
       "    <tr>\n",
       "      <th>764</th>\n",
       "      <td>Detchd</td>\n",
       "      <td>NaN</td>\n",
       "      <td>360</td>\n",
       "      <td>1</td>\n",
       "      <td>N_A</td>\n",
       "      <td>N_A</td>\n",
       "      <td>N_A</td>\n",
       "      <td>N_A</td>\n",
       "    </tr>\n",
       "  </tbody>\n",
       "</table>\n",
       "</div>"
      ],
      "text/plain": [
       "    Garage Type  Garage Yr Blt  Garage Area  Garage Cars ord_Garage Cond  \\\n",
       "764      Detchd            NaN          360            1             N_A   \n",
       "\n",
       "    ord_Garage Finish ord_Garage Qual ord_Garage Finish  \n",
       "764               N_A             N_A               N_A  "
      ]
     },
     "execution_count": 72,
     "metadata": {},
     "output_type": "execute_result"
    }
   ],
   "source": [
    "# TODO : remove this if we dont use this in model\n",
    "garage_cols =['Garage Type','Garage Yr Blt','Garage Area','Garage Cars','ord_Garage Cond','ord_Garage Finish','ord_Garage Qual','ord_Garage Finish']\n",
    "\n",
    "#There is no other similar data available to derive the value  hence seeting it to zero, for this row\n",
    "test_df.loc[(test_df['Garage Type'] =='Detchd') &\n",
    "            (test_df['Garage Area'] ==360) &\n",
    "            (test_df['Garage Cars'] ==1),garage_cols]"
   ]
  },
  {
   "cell_type": "markdown",
   "metadata": {},
   "source": [
    "### Section 5 Distribution examination and description<a id='dist_exam_and_describe'></a>"
   ]
  },
  {
   "cell_type": "code",
   "execution_count": 73,
   "metadata": {},
   "outputs": [],
   "source": [
    "###### Distribution for Numerical (discrete and continuous) variables"
   ]
  },
  {
   "cell_type": "code",
   "execution_count": 74,
   "metadata": {},
   "outputs": [
    {
     "data": {
      "text/html": [
       "<div>\n",
       "<style scoped>\n",
       "    .dataframe tbody tr th:only-of-type {\n",
       "        vertical-align: middle;\n",
       "    }\n",
       "\n",
       "    .dataframe tbody tr th {\n",
       "        vertical-align: top;\n",
       "    }\n",
       "\n",
       "    .dataframe thead th {\n",
       "        text-align: right;\n",
       "    }\n",
       "</style>\n",
       "<table border=\"1\" class=\"dataframe\">\n",
       "  <thead>\n",
       "    <tr style=\"text-align: right;\">\n",
       "      <th></th>\n",
       "      <th>MS SubClass</th>\n",
       "      <th>Lot Frontage</th>\n",
       "      <th>Lot Area</th>\n",
       "      <th>ord_Overall Qual</th>\n",
       "      <th>ord_Overall Cond</th>\n",
       "      <th>Year Built</th>\n",
       "      <th>Year Remod/Add</th>\n",
       "      <th>Mas Vnr Area</th>\n",
       "      <th>BsmtFin SF 1</th>\n",
       "      <th>BsmtFin SF 2</th>\n",
       "      <th>...</th>\n",
       "      <th>Wood Deck SF</th>\n",
       "      <th>Open Porch SF</th>\n",
       "      <th>Enclosed Porch</th>\n",
       "      <th>3Ssn Porch</th>\n",
       "      <th>Screen Porch</th>\n",
       "      <th>Pool Area</th>\n",
       "      <th>Misc Val</th>\n",
       "      <th>Mo Sold</th>\n",
       "      <th>Yr Sold</th>\n",
       "      <th>SalePrice</th>\n",
       "    </tr>\n",
       "  </thead>\n",
       "  <tbody>\n",
       "    <tr>\n",
       "      <th>count</th>\n",
       "      <td>2045.00000</td>\n",
       "      <td>2045.000000</td>\n",
       "      <td>2045.000000</td>\n",
       "      <td>2045.000000</td>\n",
       "      <td>2045.000000</td>\n",
       "      <td>2045.000000</td>\n",
       "      <td>2045.000000</td>\n",
       "      <td>2045.000000</td>\n",
       "      <td>2045.000000</td>\n",
       "      <td>2045.000000</td>\n",
       "      <td>...</td>\n",
       "      <td>2045.000000</td>\n",
       "      <td>2045.000000</td>\n",
       "      <td>2045.000000</td>\n",
       "      <td>2045.000000</td>\n",
       "      <td>2045.000000</td>\n",
       "      <td>2045.00000</td>\n",
       "      <td>2045.000000</td>\n",
       "      <td>2045.000000</td>\n",
       "      <td>2045.000000</td>\n",
       "      <td>2045.000000</td>\n",
       "    </tr>\n",
       "    <tr>\n",
       "      <th>mean</th>\n",
       "      <td>57.07824</td>\n",
       "      <td>69.697034</td>\n",
       "      <td>9920.165281</td>\n",
       "      <td>6.112958</td>\n",
       "      <td>5.561369</td>\n",
       "      <td>1971.748655</td>\n",
       "      <td>1984.187286</td>\n",
       "      <td>98.368704</td>\n",
       "      <td>441.454768</td>\n",
       "      <td>47.678729</td>\n",
       "      <td>...</td>\n",
       "      <td>93.838142</td>\n",
       "      <td>47.624939</td>\n",
       "      <td>22.510024</td>\n",
       "      <td>2.599022</td>\n",
       "      <td>16.559902</td>\n",
       "      <td>2.40489</td>\n",
       "      <td>51.481174</td>\n",
       "      <td>6.221027</td>\n",
       "      <td>2007.775061</td>\n",
       "      <td>181389.461614</td>\n",
       "    </tr>\n",
       "    <tr>\n",
       "      <th>std</th>\n",
       "      <td>42.85447</td>\n",
       "      <td>22.189233</td>\n",
       "      <td>5312.546070</td>\n",
       "      <td>1.426426</td>\n",
       "      <td>1.104950</td>\n",
       "      <td>30.183545</td>\n",
       "      <td>21.023601</td>\n",
       "      <td>174.199702</td>\n",
       "      <td>461.156433</td>\n",
       "      <td>164.795369</td>\n",
       "      <td>...</td>\n",
       "      <td>128.503001</td>\n",
       "      <td>66.802669</td>\n",
       "      <td>59.774794</td>\n",
       "      <td>25.266226</td>\n",
       "      <td>57.451366</td>\n",
       "      <td>37.83776</td>\n",
       "      <td>574.143604</td>\n",
       "      <td>2.746114</td>\n",
       "      <td>1.312392</td>\n",
       "      <td>79232.783801</td>\n",
       "    </tr>\n",
       "    <tr>\n",
       "      <th>min</th>\n",
       "      <td>20.00000</td>\n",
       "      <td>21.000000</td>\n",
       "      <td>1300.000000</td>\n",
       "      <td>1.000000</td>\n",
       "      <td>1.000000</td>\n",
       "      <td>1872.000000</td>\n",
       "      <td>1950.000000</td>\n",
       "      <td>0.000000</td>\n",
       "      <td>0.000000</td>\n",
       "      <td>0.000000</td>\n",
       "      <td>...</td>\n",
       "      <td>0.000000</td>\n",
       "      <td>0.000000</td>\n",
       "      <td>0.000000</td>\n",
       "      <td>0.000000</td>\n",
       "      <td>0.000000</td>\n",
       "      <td>0.00000</td>\n",
       "      <td>0.000000</td>\n",
       "      <td>1.000000</td>\n",
       "      <td>2006.000000</td>\n",
       "      <td>12789.000000</td>\n",
       "    </tr>\n",
       "    <tr>\n",
       "      <th>25%</th>\n",
       "      <td>20.00000</td>\n",
       "      <td>60.000000</td>\n",
       "      <td>7500.000000</td>\n",
       "      <td>5.000000</td>\n",
       "      <td>5.000000</td>\n",
       "      <td>1954.000000</td>\n",
       "      <td>1965.000000</td>\n",
       "      <td>0.000000</td>\n",
       "      <td>0.000000</td>\n",
       "      <td>0.000000</td>\n",
       "      <td>...</td>\n",
       "      <td>0.000000</td>\n",
       "      <td>0.000000</td>\n",
       "      <td>0.000000</td>\n",
       "      <td>0.000000</td>\n",
       "      <td>0.000000</td>\n",
       "      <td>0.00000</td>\n",
       "      <td>0.000000</td>\n",
       "      <td>4.000000</td>\n",
       "      <td>2007.000000</td>\n",
       "      <td>129800.000000</td>\n",
       "    </tr>\n",
       "    <tr>\n",
       "      <th>50%</th>\n",
       "      <td>50.00000</td>\n",
       "      <td>70.000000</td>\n",
       "      <td>9405.000000</td>\n",
       "      <td>6.000000</td>\n",
       "      <td>5.000000</td>\n",
       "      <td>1974.000000</td>\n",
       "      <td>1993.000000</td>\n",
       "      <td>0.000000</td>\n",
       "      <td>368.000000</td>\n",
       "      <td>0.000000</td>\n",
       "      <td>...</td>\n",
       "      <td>0.000000</td>\n",
       "      <td>27.000000</td>\n",
       "      <td>0.000000</td>\n",
       "      <td>0.000000</td>\n",
       "      <td>0.000000</td>\n",
       "      <td>0.00000</td>\n",
       "      <td>0.000000</td>\n",
       "      <td>6.000000</td>\n",
       "      <td>2008.000000</td>\n",
       "      <td>162500.000000</td>\n",
       "    </tr>\n",
       "    <tr>\n",
       "      <th>75%</th>\n",
       "      <td>70.00000</td>\n",
       "      <td>80.597222</td>\n",
       "      <td>11500.000000</td>\n",
       "      <td>7.000000</td>\n",
       "      <td>6.000000</td>\n",
       "      <td>2001.000000</td>\n",
       "      <td>2004.000000</td>\n",
       "      <td>158.000000</td>\n",
       "      <td>733.000000</td>\n",
       "      <td>0.000000</td>\n",
       "      <td>...</td>\n",
       "      <td>168.000000</td>\n",
       "      <td>70.000000</td>\n",
       "      <td>0.000000</td>\n",
       "      <td>0.000000</td>\n",
       "      <td>0.000000</td>\n",
       "      <td>0.00000</td>\n",
       "      <td>0.000000</td>\n",
       "      <td>8.000000</td>\n",
       "      <td>2009.000000</td>\n",
       "      <td>214000.000000</td>\n",
       "    </tr>\n",
       "    <tr>\n",
       "      <th>max</th>\n",
       "      <td>190.00000</td>\n",
       "      <td>313.000000</td>\n",
       "      <td>70761.000000</td>\n",
       "      <td>10.000000</td>\n",
       "      <td>9.000000</td>\n",
       "      <td>2010.000000</td>\n",
       "      <td>2010.000000</td>\n",
       "      <td>1600.000000</td>\n",
       "      <td>5644.000000</td>\n",
       "      <td>1474.000000</td>\n",
       "      <td>...</td>\n",
       "      <td>1424.000000</td>\n",
       "      <td>547.000000</td>\n",
       "      <td>432.000000</td>\n",
       "      <td>508.000000</td>\n",
       "      <td>490.000000</td>\n",
       "      <td>800.00000</td>\n",
       "      <td>17000.000000</td>\n",
       "      <td>12.000000</td>\n",
       "      <td>2010.000000</td>\n",
       "      <td>611657.000000</td>\n",
       "    </tr>\n",
       "  </tbody>\n",
       "</table>\n",
       "<p>8 rows × 37 columns</p>\n",
       "</div>"
      ],
      "text/plain": [
       "       MS SubClass  Lot Frontage      Lot Area  ord_Overall Qual  \\\n",
       "count   2045.00000   2045.000000   2045.000000       2045.000000   \n",
       "mean      57.07824     69.697034   9920.165281          6.112958   \n",
       "std       42.85447     22.189233   5312.546070          1.426426   \n",
       "min       20.00000     21.000000   1300.000000          1.000000   \n",
       "25%       20.00000     60.000000   7500.000000          5.000000   \n",
       "50%       50.00000     70.000000   9405.000000          6.000000   \n",
       "75%       70.00000     80.597222  11500.000000          7.000000   \n",
       "max      190.00000    313.000000  70761.000000         10.000000   \n",
       "\n",
       "       ord_Overall Cond   Year Built  Year Remod/Add  Mas Vnr Area  \\\n",
       "count       2045.000000  2045.000000     2045.000000   2045.000000   \n",
       "mean           5.561369  1971.748655     1984.187286     98.368704   \n",
       "std            1.104950    30.183545       21.023601    174.199702   \n",
       "min            1.000000  1872.000000     1950.000000      0.000000   \n",
       "25%            5.000000  1954.000000     1965.000000      0.000000   \n",
       "50%            5.000000  1974.000000     1993.000000      0.000000   \n",
       "75%            6.000000  2001.000000     2004.000000    158.000000   \n",
       "max            9.000000  2010.000000     2010.000000   1600.000000   \n",
       "\n",
       "       BsmtFin SF 1  BsmtFin SF 2  ...  Wood Deck SF  Open Porch SF  \\\n",
       "count   2045.000000   2045.000000  ...   2045.000000    2045.000000   \n",
       "mean     441.454768     47.678729  ...     93.838142      47.624939   \n",
       "std      461.156433    164.795369  ...    128.503001      66.802669   \n",
       "min        0.000000      0.000000  ...      0.000000       0.000000   \n",
       "25%        0.000000      0.000000  ...      0.000000       0.000000   \n",
       "50%      368.000000      0.000000  ...      0.000000      27.000000   \n",
       "75%      733.000000      0.000000  ...    168.000000      70.000000   \n",
       "max     5644.000000   1474.000000  ...   1424.000000     547.000000   \n",
       "\n",
       "       Enclosed Porch   3Ssn Porch  Screen Porch   Pool Area      Misc Val  \\\n",
       "count     2045.000000  2045.000000   2045.000000  2045.00000   2045.000000   \n",
       "mean        22.510024     2.599022     16.559902     2.40489     51.481174   \n",
       "std         59.774794    25.266226     57.451366    37.83776    574.143604   \n",
       "min          0.000000     0.000000      0.000000     0.00000      0.000000   \n",
       "25%          0.000000     0.000000      0.000000     0.00000      0.000000   \n",
       "50%          0.000000     0.000000      0.000000     0.00000      0.000000   \n",
       "75%          0.000000     0.000000      0.000000     0.00000      0.000000   \n",
       "max        432.000000   508.000000    490.000000   800.00000  17000.000000   \n",
       "\n",
       "           Mo Sold      Yr Sold      SalePrice  \n",
       "count  2045.000000  2045.000000    2045.000000  \n",
       "mean      6.221027  2007.775061  181389.461614  \n",
       "std       2.746114     1.312392   79232.783801  \n",
       "min       1.000000  2006.000000   12789.000000  \n",
       "25%       4.000000  2007.000000  129800.000000  \n",
       "50%       6.000000  2008.000000  162500.000000  \n",
       "75%       8.000000  2009.000000  214000.000000  \n",
       "max      12.000000  2010.000000  611657.000000  \n",
       "\n",
       "[8 rows x 37 columns]"
      ]
     },
     "execution_count": 74,
     "metadata": {},
     "output_type": "execute_result"
    }
   ],
   "source": [
    "train_df.describe()"
   ]
  },
  {
   "cell_type": "code",
   "execution_count": 75,
   "metadata": {},
   "outputs": [],
   "source": [
    "###### Distribution for Ordinal variables"
   ]
  },
  {
   "cell_type": "code",
   "execution_count": 76,
   "metadata": {},
   "outputs": [],
   "source": [
    "###### Are outliers identified and addressed?"
   ]
  },
  {
   "cell_type": "code",
   "execution_count": null,
   "metadata": {},
   "outputs": [],
   "source": []
  },
  {
   "cell_type": "code",
   "execution_count": 77,
   "metadata": {},
   "outputs": [],
   "source": [
    "###### Are appropriate summary statistics provided?"
   ]
  },
  {
   "cell_type": "markdown",
   "metadata": {},
   "source": [
    "### Section 6 Save cleaned data frame  to a file> <a id= 'save_cleaned_dataframe'></a>"
   ]
  },
  {
   "cell_type": "code",
   "execution_count": 78,
   "metadata": {},
   "outputs": [],
   "source": [
    "train_df.to_csv(\"./submission/train_cleaned.csv\",index=False)\n",
    "test_df.to_csv(\"./submission/test_cleaned.csv\",index=False)"
   ]
  },
  {
   "cell_type": "markdown",
   "metadata": {},
   "source": [
    "<a id='References'/>"
   ]
  },
  {
   "cell_type": "markdown",
   "metadata": {},
   "source": [
    "###### References\n",
    "\n",
    " General assembly . - EDA Walkthrough  Notebook\n",
    " \n",
    " https://www.gimme-shelter.com/frontage-50043/ : width at the front is also known as frontage\n",
    " \n",
    " https://medium.com/@george.drakos62/handling-missing-values-in-machine-learning-part-1-dda69d4f88ca?\n",
    " \n",
    "https://sebastianraschka.com/Articles/2014_ipython_internal_links.html\n",
    "\n",
    " https://stackoverflow.com/questions/37366717/pandas-print-column-name-with-missing-values"
   ]
  }
 ],
 "metadata": {
  "kernelspec": {
   "display_name": "Python 3",
   "language": "python",
   "name": "python3"
  },
  "language_info": {
   "codemirror_mode": {
    "name": "ipython",
    "version": 3
   },
   "file_extension": ".py",
   "mimetype": "text/x-python",
   "name": "python",
   "nbconvert_exporter": "python",
   "pygments_lexer": "ipython3",
   "version": "3.7.4"
  }
 },
 "nbformat": 4,
 "nbformat_minor": 2
}
