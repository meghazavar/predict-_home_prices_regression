{
 "cells": [
  {
   "cell_type": "markdown",
   "metadata": {},
   "source": [
    "\n",
    "- [ ] [Packages and data import](#import_package)\n",
    "- [ ] [section 2 High level overview of columns](#high_level_overview_of_columns)\n",
    "- [ ] [section 3 Identify missing data ](#identify-missing_Data)\n",
    "- [ ] [section 4.A Handling missing Training data ](#handling-missing_Data)\n",
    "- [ ] [section 4.B Handling missing Test data](#handling-missing_Data)\n",
    "- [ ] [section 5 distributions examinination and description](#dist_exam_and_describe)\n",
    "- [ ] [section 6 Save cleaned data frame to a file](#dist_exam_and_describe)\n",
    "- [ ] [Section  - Refeneces](#References)\n",
    "### Section 4B cleaning Test dataset<a id='cleaning_test_dataset'></a>"
   ]
  },
  {
   "cell_type": "markdown",
   "metadata": {},
   "source": [
    "\n",
    "- [x]Are missing values imputed appropriately?\n",
    "- [ ]Are distributions examined and described?\n",
    "- [ ]Are outliers identified and addressed?\n",
    "- [ ]Are appropriate summary statistics provided?\n",
    "- [ ]Are steps taken during data cleaning and EDA framed appropriately?\n",
    "- [ ]Does the student address whether or not they are likely to be able to answer their problem statement with the -provided data given what they've discovered during EDA?"
   ]
  },
  {
   "cell_type": "markdown",
   "metadata": {},
   "source": [
    "<a id=\"import_package>\n",
    "### Section 1: Packages and data import"
   ]
  },
  {
   "cell_type": "markdown",
   "metadata": {},
   "source": [
    "<a id=\"high_level_overview_of_columns\">\n",
    "    \n",
    "### Section 2: High level  overview of columns\n",
    "A detailed dictionary can be found under the documents folder.Following tables provide a quick summary of data available.\n",
    "There are 78 attributes of a house provided."
   ]
  },
  {
   "cell_type": "markdown",
   "metadata": {},
   "source": [
    "|Feature|Type|Description|\n",
    "|---|---|---|\n",
    "|state|object|SAT|\n",
    "|Id|  |  | \n",
    "|PID|  |  | \n",
    "|MS SubClass|  |  Identifies the type of dwelling involved in the sale.| \n",
    "|MS Zoning|  | Identifies the general zoning classification of the sale | \n",
    "|Lot Frontage|  | Linear feet of street connected to property | \n",
    "|Lot Area|  |  Lot size in square feet|\n",
    "|Street|  | Type of road access to property | \n",
    "|Alley|  | Type of alley access to property | \n",
    "|Lot Shape|  | General shape of property | \n",
    "|Land Contour|  | Flatness of the property | \n",
    "|Utilities|  |  Type of utilities available|\n",
    "|Lot Config|  | Lot configuration | \n",
    "|Land Slope|  | Slope of property | \n",
    "|Neighborhood|  |Physical locations within Ames city limits  | \n",
    "|Condition 1|  | Proximity to various conditions |\n",
    "|Condition 2|  | Proximity to various conditions (if more than one is present) | \n",
    "|Bldg Type|  |  Type of dwelling| '\n",
    "|House Style|  | Style of dwelling | \n",
    "|Overall Qual|  | Rates the overall material and finish of the house |\n",
    "|Overall Cond|  |Rates the overall condition of the house  | \n",
    "|Year Built|  | Original construction date | \n",
    "|Year Remod/Add|  | Remodel date (same as construction date if no remodeling or additions) | \n",
    "|Roof Style|  |  Type of roof|\n",
    "|Roof Matl|  | Roof material | \n",
    "|Exterior 1st|  | Exterior covering on house | \n",
    "|Exterior 2nd|  | Exterior covering on house (if more than one material) | \n",
    "|Mas Vnr Type|  | Masonry veneer type |\n",
    "|Mas Vnr Area|  | Masonry veneer area in square feet | \n",
    "|Exter Qual|  | Evaluates the quality of the material on the exterior | \n",
    "|Exter Cond|  | Evaluates the present condition of the material on the exterior | \n",
    "|Foundation|  | Type of foundation | \n",
    "|Bsmt Qual|  |  Evaluates the height of the basement|\n",
    "|Bsmt Cond|  |  Evaluates the general condition of the basement| \n",
    "|Bsmt Exposure|  | Refers to walkout or garden level walls | \n",
    "|BsmtFin Type 1|  | Rating of basement finished area | \n",
    "|BsmtFin SF 1|  | Type 1 finished square feet |\n",
    "|BsmtFin Type 2|  |Rating of basement finished area (if multiple types)  | \n",
    "|BsmtFin SF 2|  | Type 2 finished square feet | \n",
    "|Bsmt Unf SF|  | Unfinished square feet of basement area | \n",
    "|Total Bsmt SF|  |Total square feet of basement area  |\n",
    "|Heating|  | Type of heating | \n",
    "|Heating QC|  | Heating quality and condition | \n",
    "|Central Air|  | Central air conditioning | \n",
    "|Electrical|  | Electrical system | \n",
    "|1st Flr SF|  |  First Floor square feet|\n",
    "|2nd Flr SF|  | Second floor square feet | \n",
    "|Low Qual Fin SF|  | Low quality finished square feet (all floors) | \n",
    "|Gr Liv Area|  | Above grade (ground) living area square feet | \n",
    "|Bsmt Full Bath|  | Basement full bathrooms |\n",
    "|Bsmt Half Bath|  | Basement half bathrooms | \n",
    "|Full Bath|  |  Full bathrooms above grade| \n",
    "|Half Bath|  |  Half baths above grade| \n",
    "|Bedroom AbvGr|  | Bedrooms above grade (does NOT include basement bedrooms) |\n",
    "|Kitchen AbvGr|  | Kitchens above grade | \n",
    "|Kitchen Qual|  | Kitchen quality | \n",
    "|TotRms AbvGrd|  | Total rooms above grade (does not include bathrooms) | \n",
    "|Functional|  |  Home functionality (Assume typical unless deductions are warranted)|\n",
    "|Fireplaces|  |  Number of fireplaces| \n",
    "|Fireplace Qu|  | Fireplace quality | \n",
    "|Garage Type|  | Garage location | \n",
    "|Garage Yr Blt|  | Year garage was built |\n",
    "|Garage Finish|  | Interior finish of the garage | \n",
    "|Garage Cars|  | Size of garage in car capacity | \n",
    "|Garage Area|  | Size of garage in square feet | \n",
    "|Garage Qual|  | Garage quality |\n",
    "|Garage Cond|  | Garage condition | \n",
    "|Paved Drive|  | Paved driveway | \n",
    "|Wood Deck SF|  | Wood deck area in square feet | \n",
    "|Open Porch SF|  | Open porch area in square feet |\n",
    "|Enclosed Porch|  | Enclosed porch area in square feet | \n",
    "|3Ssn Porch|  | Three season porch area in square feet | \n",
    "|Screen Porch|  | Screen porch area in square feet | \n",
    "|Pool Area|  |  Pool area in square feet| \n",
    "|**Pool QC** | string | Pool quality |\n",
    "|Fence|  | Fence quality | \n",
    "|Misc Feature|  | Miscellaneous feature not covered in other categories  | \n",
    "|Misc Val|  |  $Value of miscellaneous feature| \n",
    "|Mo Sold|  |  Month Sold (MM)| \n",
    "|Yr Sold|  |  Year Sold (YYYY)| \n",
    "|Sale Type|  | Type of sale |\n",
    "|SalePrice|  |  Condition of sale|"
   ]
  },
  {
   "cell_type": "code",
   "execution_count": 100,
   "metadata": {},
   "outputs": [],
   "source": [
    "import pandas as pd\n",
    "import numpy as np\n",
    "import seaborn as sns\n",
    "import matplotlib.pyplot as plt\n",
    "%matplotlib inline\n",
    "from clean import DataCleaner;"
   ]
  },
  {
   "cell_type": "code",
   "execution_count": 101,
   "metadata": {},
   "outputs": [
    {
     "data": {
      "text/plain": [
       "((2051, 81), (878, 80))"
      ]
     },
     "execution_count": 101,
     "metadata": {},
     "output_type": "execute_result"
    }
   ],
   "source": [
    "train_df =pd.read_csv(\"../datasets/train.csv\")\n",
    "test_df =pd.read_csv(\"../datasets/test.csv\")\n",
    "\n",
    "train_ds_cleaner = DataCleaner(train_df)\n",
    "test_ds_cleaner =DataCleaner(test_df)\n",
    "\n",
    "train_df.shape ,test_df.shape"
   ]
  },
  {
   "cell_type": "markdown",
   "metadata": {},
   "source": [
    "### Section 3 Identify missing data  <a id='identify-missing_Data'></a>\n",
    "\n",
    "The  following query identifies the missing columns.\n",
    "26 columns  out of 78 feature columns have atlease one more missing values.\n",
    " \n",
    "###### Categorical columns with missing data  are as follows\n",
    "Pool Q,\n",
    "Fence,\n",
    "Misc Feature\n",
    "Alley',\n",
    "Fireplace Qu, \n",
    "Mas Vnr Type', \n",
    "'Bsmt Qual', 'Bsmt Cond', 'Bsmt Exposure','BsmtFin Type 1', 'BsmtFin Type 2', \n",
    "'Garage Type','Garage Finish', 'Garage Qual', 'Garage Cond', "
   ]
  },
  {
   "cell_type": "code",
   "execution_count": 102,
   "metadata": {},
   "outputs": [
    {
     "name": "stdout",
     "output_type": "stream",
     "text": [
      "missing non-numerical columns\n",
      " training :       Alley Mas Vnr Type Bsmt Qual Bsmt Cond Bsmt Exposure BsmtFin Type 1 BsmtFin Type 2 Fireplace Qu Garage Type Garage Finish Garage Qual Garage Cond Pool QC Fence Misc Feature\n",
      "\n",
      " test:Alley Mas Vnr Type Bsmt Qual Bsmt Cond Bsmt Exposure BsmtFin Type 1 BsmtFin Type 2 Electrical Fireplace Qu Garage Type Garage Finish Garage Qual Garage Cond Pool QC Fence Misc Feature\n"
     ]
    }
   ],
   "source": [
    "#train_df[train_ds_cleaner.missing_non_numerical_columns()].isnull().any() \n",
    "miss_nonnum_train_cols = ' '.join(train_ds_cleaner.missing_non_numerical_columns())\n",
    "miss_nonnum_test_cols = ' '.join(test_ds_cleaner.missing_non_numerical_columns())\n",
    "print( f'missing non-numerical columns\\n training : \\\n",
    "      {miss_nonnum_train_cols}\\n\\n test:{miss_nonnum_test_cols}')"
   ]
  },
  {
   "cell_type": "code",
   "execution_count": 103,
   "metadata": {},
   "outputs": [
    {
     "data": {
      "text/plain": [
       "['1st Flr SF',\n",
       " '2nd Flr SF',\n",
       " '3Ssn Porch',\n",
       " 'Bedroom AbvGr',\n",
       " 'Bsmt Full Bath',\n",
       " 'Bsmt Half Bath',\n",
       " 'Bsmt Unf SF',\n",
       " 'BsmtFin SF 1',\n",
       " 'BsmtFin SF 2',\n",
       " 'Enclosed Porch',\n",
       " 'Fireplaces',\n",
       " 'Full Bath',\n",
       " 'Garage Area',\n",
       " 'Garage Cars',\n",
       " 'Garage Yr Blt',\n",
       " 'Gr Liv Area',\n",
       " 'Half Bath',\n",
       " 'Id',\n",
       " 'Kitchen AbvGr',\n",
       " 'Lot Area',\n",
       " 'Lot Frontage',\n",
       " 'Low Qual Fin SF',\n",
       " 'MS SubClass',\n",
       " 'Mas Vnr Area',\n",
       " 'Misc Val',\n",
       " 'Mo Sold',\n",
       " 'Open Porch SF',\n",
       " 'Overall Cond',\n",
       " 'Overall Qual',\n",
       " 'PID',\n",
       " 'Pool Area',\n",
       " 'SalePrice',\n",
       " 'Screen Porch',\n",
       " 'TotRms AbvGrd',\n",
       " 'Total Bsmt SF',\n",
       " 'Wood Deck SF',\n",
       " 'Year Built',\n",
       " 'Year Remod/Add',\n",
       " 'Yr Sold']"
      ]
     },
     "execution_count": 103,
     "metadata": {},
     "output_type": "execute_result"
    }
   ],
   "source": [
    "sorted(train_df.select_dtypes(include =\"number\").columns)"
   ]
  },
  {
   "cell_type": "code",
   "execution_count": 104,
   "metadata": {},
   "outputs": [
    {
     "data": {
      "text/plain": [
       "dtype('int64')"
      ]
     },
     "execution_count": 104,
     "metadata": {},
     "output_type": "execute_result"
    }
   ],
   "source": [
    "#train_df[train_df.select_dtypes(exclude =\"number\").columns].head().T\n",
    "\n",
    "\n",
    "#Bsmt Unf SF\n",
    "#train_df['Bsmt Full Bath'].sort_values() /train_df['Bsmt Half Bath']   \n",
    "\n",
    "train_df['Overall Qual'].dtype"
   ]
  },
  {
   "cell_type": "markdown",
   "metadata": {},
   "source": [
    "######  Rename all Ordinal columns to begin with ord"
   ]
  },
  {
   "cell_type": "code",
   "execution_count": 105,
   "metadata": {},
   "outputs": [
    {
     "data": {
      "text/plain": [
       "Index(['ord_Lot Shape', 'ord_Utilities', 'ord_Land Slope', 'ord_Overall Qual',\n",
       "       'ord_Overall Cond', 'ord_Exter Qual', 'ord_Exter Cond', 'ord_Bsmt Qual',\n",
       "       'ord_Bsmt Cond', 'ord_Bsmt Exposure', 'ord_BsmtFin Type 1',\n",
       "       'ord_BsmtFin Type 2', 'ord_Heating QC', 'ord_Electrical',\n",
       "       'ord_Kitchen Qual', 'ord_Functional', 'ord_Fireplace Qu',\n",
       "       'ord_Garage Finish', 'ord_Garage Qual', 'ord_Garage Cond',\n",
       "       'ord_Paved Drive', 'ord_Pool QC', 'ord_Fence'],\n",
       "      dtype='object')"
      ]
     },
     "execution_count": 105,
     "metadata": {},
     "output_type": "execute_result"
    }
   ],
   "source": [
    "train_ds_cleaner.prefix_ordinal_column_names()\n",
    "test_ds_cleaner.prefix_ordinal_column_names()\n",
    "test_df.columns[test_df.columns.str.startswith('ord')]"
   ]
  },
  {
   "cell_type": "markdown",
   "metadata": {},
   "source": [
    "###### Numerical columns with missing data\n",
    "Lot Frontage', 'Mas Vnr Area',\n",
    "'BsmtFin SF 1', 'BsmtFin SF 2','Bsmt Unf SF', 'Total Bsmt SF', 'Bsmt Full Bath', 'Bsmt Half Bath',\n",
    "'Garage Yr Blt', 'Garage Cars', 'Garage Area'"
   ]
  },
  {
   "cell_type": "code",
   "execution_count": 106,
   "metadata": {},
   "outputs": [
    {
     "name": "stdout",
     "output_type": "stream",
     "text": [
      "missing numerical columns\n",
      " training :       Lot Frontage Mas Vnr Area BsmtFin SF 1 BsmtFin SF 2 Bsmt Unf SF Total Bsmt SF Bsmt Full Bath Bsmt Half Bath Garage Yr Blt Garage Cars Garage Area\n",
      "\n",
      " test:Lot Frontage Mas Vnr Area Garage Yr Blt\n"
     ]
    }
   ],
   "source": [
    "#train_df[train_df.columns[train_df.isnull().any()]].select_dtypes(include =\"number\").columns\n",
    "missing_num_train_cols = ' '.join(train_ds_cleaner.missing_numerical_columns())\n",
    "missing_num_test_cols = ' '.join(test_ds_cleaner.missing_numerical_columns())\n",
    "print( f'missing numerical columns\\n training : \\\n",
    "      {missing_num_train_cols}\\n\\n test:{missing_num_test_cols}')"
   ]
  },
  {
   "cell_type": "markdown",
   "metadata": {},
   "source": [
    "###### Missing columns with highest to lowest in ratio"
   ]
  },
  {
   "cell_type": "code",
   "execution_count": 107,
   "metadata": {},
   "outputs": [
    {
     "name": "stdout",
     "output_type": "stream",
     "text": [
      "ord_Pool QC           99.561190\n",
      "Misc Feature          96.830814\n",
      "Alley                 93.174061\n",
      "ord_Fence             80.497318\n",
      "ord_Fireplace Qu      48.756704\n",
      "Lot Frontage          16.089712\n",
      "Garage Yr Blt          5.558264\n",
      "ord_Garage Cond        5.558264\n",
      "ord_Garage Qual        5.558264\n",
      "ord_Garage Finish      5.558264\n",
      "Garage Type            5.509508\n",
      "ord_Bsmt Exposure      2.827889\n",
      "ord_BsmtFin Type 2     2.730375\n",
      "ord_Bsmt Cond          2.681619\n",
      "ord_Bsmt Qual          2.681619\n",
      "ord_BsmtFin Type 1     2.681619\n",
      "Mas Vnr Type           1.072647\n",
      "Mas Vnr Area           1.072647\n",
      "Bsmt Half Bath         0.097513\n",
      "Bsmt Full Bath         0.097513\n",
      "Garage Cars            0.048757\n",
      "BsmtFin SF 1           0.048757\n",
      "BsmtFin SF 2           0.048757\n",
      "Bsmt Unf SF            0.048757\n",
      "Garage Area            0.048757\n",
      "Total Bsmt SF          0.048757\n",
      "dtype: float64\n"
     ]
    }
   ],
   "source": [
    "train_ds_cleaner.disp_missing_data()"
   ]
  },
  {
   "cell_type": "markdown",
   "metadata": {},
   "source": [
    "### Section 4.A  Handling missing training data  <a id='handling-missing_Data'></a>\n",
    "There are total 26 features that has missing atleast a value. Also , while most of the  columns have missing data less than 5  percent. There are 5 features where very high number of data is missing. Multiple stragtegies were  employed to impute or drop data and  we will disucss each column and the reasonings here .\n",
    "\n",
    "###### 1. Pool  and Fireplace  , Garage and basement   attributes were set to 'NA' when the pool or fireplace , garage or basement itself didn't exist.\n"
   ]
  },
  {
   "cell_type": "code",
   "execution_count": 108,
   "metadata": {},
   "outputs": [],
   "source": [
    "train_df =train_ds_cleaner.Replace_pool_quality_as_na_if_no_pool()\n",
    "train_df =train_ds_cleaner.Replace_fireplace_quality_as_na_if_no_fireplace()\n",
    "train_df =train_ds_cleaner.Replace_garage_attributes_as_na_if_no_garage()\n",
    "train_df =train_ds_cleaner.Replace_basement_attributes_as_na_if_no_basement()"
   ]
  },
  {
   "cell_type": "markdown",
   "metadata": {},
   "source": [
    "###### 2. columns 'Misc Feature' and  'Alley'  and 'Fence' attributes set to Na\n",
    "With 96% and 93% and 80 % missing data for the three columns respectively .I decided to assign no 'NA' for houses that were missing this information ."
   ]
  },
  {
   "cell_type": "code",
   "execution_count": 109,
   "metadata": {},
   "outputs": [],
   "source": [
    "train_df =train_ds_cleaner.Replace_misc_feature_as_na_if_null()\n",
    "train_df =train_ds_cleaner.Replace_access_to_Alley_as_na_if_null()\n",
    "train_df =train_ds_cleaner.Replace_fence_as_na_if_null()"
   ]
  },
  {
   "cell_type": "markdown",
   "metadata": {},
   "source": [
    "###### 2. column  'Lot  frontage'  is  width of a lot, measured at the front part of the lot for a house.\n",
    "It would make sense that lot width and lot area are co-related calculating area would depend on width.\n",
    "Following scatter plot also demonstrates a positive , perhaps weak co-relation between the two.\n",
    "So I decided to populate the lot frontage using the average lot frontage for houses that have similar area  ( with in +/- 5 percent threshold)"
   ]
  },
  {
   "cell_type": "code",
   "execution_count": 110,
   "metadata": {},
   "outputs": [
    {
     "data": {
      "text/plain": [
       "Text(0, 0.5, 'Lot frontage')"
      ]
     },
     "execution_count": 110,
     "metadata": {},
     "output_type": "execute_result"
    },
    {
     "data": {
      "image/png": "[encoded data removed]",
      "text/plain": [
       "<Figure size 432x288 with 1 Axes>"
      ]
     },
     "metadata": {
      "needs_background": "light"
     },
     "output_type": "display_data"
    }
   ],
   "source": [
    "plt.scatter(train_df['Lot Area'],train_df['Lot Frontage'])\n",
    "plt.xlabel(\"Lot area\")\n",
    "plt.ylabel(\"Lot frontage\")"
   ]
  },
  {
   "cell_type": "code",
   "execution_count": 111,
   "metadata": {},
   "outputs": [],
   "source": [
    "train_df =train_ds_cleaner.impute_lot_frontage_with_avg_of_similar_homes(5)"
   ]
  },
  {
   "cell_type": "markdown",
   "metadata": {},
   "source": [
    "######  If to many columns are missing  drop the  rows al-together\n",
    "My first attempt is to find is multiple columns are empty  and is so then dropping the row than tryign to fill all the values as  hence I am going to drop the following 2 rows."
   ]
  },
  {
   "cell_type": "code",
   "execution_count": 112,
   "metadata": {},
   "outputs": [],
   "source": [
    "train_df= train_df[~(train_df['ord_Bsmt Qual'].isnull() &\n",
    "   train_df['ord_Bsmt Exposure'].isnull() &train_df['Bsmt Full Bath'].isnull() &\n",
    "   train_df['ord_BsmtFin Type 1'].isnull() & train_df['ord_BsmtFin Type 2'].isnull() &\n",
    "   train_df['ord_Bsmt Cond'].isnull() & train_df['Total Bsmt SF'].isnull() \n",
    "    )\n",
    "  ]\n",
    "train_df =train_df[~(train_df['ord_Garage Finish'].isnull() &\n",
    "   train_df['Garage Cars'].isnull() &\n",
    "   train_df['Garage Area'].isnull() &\n",
    "   train_df['ord_Garage Qual'].isnull() &\n",
    "   train_df['ord_Garage Cond'].isnull() )\n",
    "  ]"
   ]
  },
  {
   "cell_type": "markdown",
   "metadata": {},
   "source": [
    "######   opt in for most conservative option as  no option is  spcified on Masaonary venner type\n",
    "For Masonry veneer type , among the  four options . None, Brkface,Stone,BrkCmn - I decided to opt for none as that was the most common choice among houses.\n",
    "Choosing Masonry veneer type  to none will mean the area to be zero"
   ]
  },
  {
   "cell_type": "code",
   "execution_count": 113,
   "metadata": {},
   "outputs": [],
   "source": [
    "train_df.loc[train_df['Mas Vnr Area'].isnull(),'Mas Vnr Area'] = 0\n",
    "train_df.loc[train_df['Mas Vnr Type'].isnull(),'Mas Vnr Type'] = 'None'\n",
    "train_df.loc[train_df['ord_Bsmt Exposure'].isnull(),'ord_Bsmt Exposure'] ='N_A'\n",
    "train_df.loc[train_df['ord_BsmtFin Type 2'].isnull(),'ord_BsmtFin Type 2']  = train_df.loc[train_df['ord_BsmtFin Type 2'].isnull(),['ord_BsmtFin Type 1']]"
   ]
  },
  {
   "cell_type": "markdown",
   "metadata": {},
   "source": [
    "######   Replacing these  missing data with  just  a value  without loosing data in  other columns for these row  model can work and we have all numbers,"
   ]
  },
  {
   "cell_type": "code",
   "execution_count": 114,
   "metadata": {},
   "outputs": [],
   "source": [
    "train_df.dropna(inplace=True)\n",
    "train_df.drop(columns=['PID','Id'],inplace=True)\n",
    "#test_df.drop(columns=['PID','Id'],inplace=True)"
   ]
  },
  {
   "cell_type": "markdown",
   "metadata": {},
   "source": [
    "### Section 4B cleaning Test dataset<a id='cleaning_test_dataset'></a>"
   ]
  },
  {
   "cell_type": "code",
   "execution_count": 124,
   "metadata": {},
   "outputs": [
    {
     "name": "stdout",
     "output_type": "stream",
     "text": [
      "ord_Garage Cond      0.113895\n",
      "ord_Garage Qual      0.113895\n",
      "ord_Garage Finish    0.113895\n",
      "Garage Yr Blt        0.113895\n",
      "ord_Electrical       0.113895\n",
      "dtype: float64\n"
     ]
    }
   ],
   "source": [
    "test_ds_cleaner.disp_missing_data()"
   ]
  },
  {
   "cell_type": "code",
   "execution_count": 116,
   "metadata": {},
   "outputs": [],
   "source": [
    "test_df =test_ds_cleaner.Replace_pool_quality_as_na_if_no_pool()\n",
    "test_df =test_ds_cleaner.Replace_misc_feature_as_na_if_null()\n",
    "test_df =test_ds_cleaner.Replace_access_to_Alley_as_na_if_null()\n",
    "test_df =test_ds_cleaner.Replace_fence_as_na_if_null()\n",
    "test_df =test_ds_cleaner.Replace_fireplace_quality_as_na_if_no_fireplace()\n",
    "test_df =test_ds_cleaner.Replace_garage_attributes_as_na_if_no_garage()\n",
    "test_df =test_ds_cleaner.Replace_basement_attributes_as_na_if_no_basement()\n",
    "test_df.loc[test_df['Mas Vnr Area'].isnull(),'Mas Vnr Area'] = 0\n",
    "test_df.loc[test_df['Mas Vnr Type'].isnull(),'Mas Vnr Type'] = 'None'\n",
    "test_df.loc[test_df['ord_Bsmt Exposure'].isnull(),'ord_Bsmt Exposure'] ='N_A'\n",
    "#test_df.loc[test_df['ord_Garage Finish'].isnull(),'ord_Garage Finish'] ='N_A'\n",
    "\n",
    "#test_df.loc[test_df['ord_Electrical'].isnull(),'ord_Electrical']='SBrkr'  # most common electrical\n",
    "#test_df.loc[test_df['Garage Yr Blt'].isnull(),['ord_Garage Finish','ord_Garage Qual','ord_Garage Finish']] ='N_A'\n",
    "test_df.loc[test_df['ord_Garage Cond'].isnull(),'ord_Garage Cond'] ='N_A'\n",
    "\n",
    "test_df =test_ds_cleaner.impute_lot_frontage_with_avg_of_similar_homes(5)\n",
    "test_df =test_ds_cleaner.impute_lot_frontage_with_avg_of_similar_homes(10)\n",
    "test_df =test_ds_cleaner.impute_lot_frontage_with_avg_of_similar_homes(20)\n",
    "test_df =test_ds_cleaner.impute_lot_frontage_with_avg_of_similar_homes(40)"
   ]
  },
  {
   "cell_type": "code",
   "execution_count": 117,
   "metadata": {},
   "outputs": [],
   "source": [
    "# TODO : remove this if we dont use this in model\n",
    "garage_cols =['Garage Type','Garage Yr Blt','Garage Area','Garage Cars','ord_Garage Cond','ord_Garage Finish','ord_Garage Qual','ord_Garage Finish']"
   ]
  },
  {
   "cell_type": "markdown",
   "metadata": {},
   "source": [
    "### Section 5 Distribution examination and description<a id='dist_exam_and_describe'></a>"
   ]
  },
  {
   "cell_type": "code",
   "execution_count": 118,
   "metadata": {},
   "outputs": [],
   "source": [
    "###### Distribution for Numerical (discrete and continuous) variables"
   ]
  },
  {
   "cell_type": "code",
   "execution_count": 119,
   "metadata": {},
   "outputs": [
    {
     "data": {
      "text/html": [
       "<div>\n",
       "<style scoped>\n",
       "    .dataframe tbody tr th:only-of-type {\n",
       "        vertical-align: middle;\n",
       "    }\n",
       "\n",
       "    .dataframe tbody tr th {\n",
       "        vertical-align: top;\n",
       "    }\n",
       "\n",
       "    .dataframe thead th {\n",
       "        text-align: right;\n",
       "    }\n",
       "</style>\n",
       "<table border=\"1\" class=\"dataframe\">\n",
       "  <thead>\n",
       "    <tr style=\"text-align: right;\">\n",
       "      <th></th>\n",
       "      <th>count</th>\n",
       "      <th>min</th>\n",
       "      <th>max</th>\n",
       "      <th>mean</th>\n",
       "    </tr>\n",
       "  </thead>\n",
       "  <tbody>\n",
       "    <tr>\n",
       "      <th>1st Flr SF</th>\n",
       "      <td>2045.0</td>\n",
       "      <td>334.0</td>\n",
       "      <td>5095.0</td>\n",
       "      <td>1163.786308</td>\n",
       "    </tr>\n",
       "    <tr>\n",
       "      <th>2nd Flr SF</th>\n",
       "      <td>2045.0</td>\n",
       "      <td>0.0</td>\n",
       "      <td>1862.0</td>\n",
       "      <td>329.519804</td>\n",
       "    </tr>\n",
       "    <tr>\n",
       "      <th>3Ssn Porch</th>\n",
       "      <td>2045.0</td>\n",
       "      <td>0.0</td>\n",
       "      <td>508.0</td>\n",
       "      <td>2.599022</td>\n",
       "    </tr>\n",
       "    <tr>\n",
       "      <th>Bedroom AbvGr</th>\n",
       "      <td>2045.0</td>\n",
       "      <td>0.0</td>\n",
       "      <td>8.0</td>\n",
       "      <td>2.843521</td>\n",
       "    </tr>\n",
       "    <tr>\n",
       "      <th>Bsmt Full Bath</th>\n",
       "      <td>2045.0</td>\n",
       "      <td>0.0</td>\n",
       "      <td>3.0</td>\n",
       "      <td>0.426895</td>\n",
       "    </tr>\n",
       "    <tr>\n",
       "      <th>Bsmt Half Bath</th>\n",
       "      <td>2045.0</td>\n",
       "      <td>0.0</td>\n",
       "      <td>2.0</td>\n",
       "      <td>0.063081</td>\n",
       "    </tr>\n",
       "    <tr>\n",
       "      <th>Bsmt Unf SF</th>\n",
       "      <td>2045.0</td>\n",
       "      <td>0.0</td>\n",
       "      <td>2336.0</td>\n",
       "      <td>567.578484</td>\n",
       "    </tr>\n",
       "    <tr>\n",
       "      <th>BsmtFin SF 1</th>\n",
       "      <td>2045.0</td>\n",
       "      <td>0.0</td>\n",
       "      <td>5644.0</td>\n",
       "      <td>441.454768</td>\n",
       "    </tr>\n",
       "    <tr>\n",
       "      <th>BsmtFin SF 2</th>\n",
       "      <td>2045.0</td>\n",
       "      <td>0.0</td>\n",
       "      <td>1474.0</td>\n",
       "      <td>47.678729</td>\n",
       "    </tr>\n",
       "    <tr>\n",
       "      <th>Enclosed Porch</th>\n",
       "      <td>2045.0</td>\n",
       "      <td>0.0</td>\n",
       "      <td>432.0</td>\n",
       "      <td>22.510024</td>\n",
       "    </tr>\n",
       "    <tr>\n",
       "      <th>Fireplaces</th>\n",
       "      <td>2045.0</td>\n",
       "      <td>0.0</td>\n",
       "      <td>4.0</td>\n",
       "      <td>0.589242</td>\n",
       "    </tr>\n",
       "    <tr>\n",
       "      <th>Full Bath</th>\n",
       "      <td>2045.0</td>\n",
       "      <td>0.0</td>\n",
       "      <td>4.0</td>\n",
       "      <td>1.577017</td>\n",
       "    </tr>\n",
       "    <tr>\n",
       "      <th>Garage Area</th>\n",
       "      <td>2045.0</td>\n",
       "      <td>0.0</td>\n",
       "      <td>1418.0</td>\n",
       "      <td>473.431296</td>\n",
       "    </tr>\n",
       "    <tr>\n",
       "      <th>Garage Cars</th>\n",
       "      <td>2045.0</td>\n",
       "      <td>0.0</td>\n",
       "      <td>5.0</td>\n",
       "      <td>1.776039</td>\n",
       "    </tr>\n",
       "    <tr>\n",
       "      <th>Garage Yr Blt</th>\n",
       "      <td>2045.0</td>\n",
       "      <td>0.0</td>\n",
       "      <td>2207.0</td>\n",
       "      <td>1869.395110</td>\n",
       "    </tr>\n",
       "    <tr>\n",
       "      <th>Gr Liv Area</th>\n",
       "      <td>2045.0</td>\n",
       "      <td>334.0</td>\n",
       "      <td>5642.0</td>\n",
       "      <td>1498.835208</td>\n",
       "    </tr>\n",
       "    <tr>\n",
       "      <th>Half Bath</th>\n",
       "      <td>2045.0</td>\n",
       "      <td>0.0</td>\n",
       "      <td>2.0</td>\n",
       "      <td>0.372127</td>\n",
       "    </tr>\n",
       "    <tr>\n",
       "      <th>Kitchen AbvGr</th>\n",
       "      <td>2045.0</td>\n",
       "      <td>0.0</td>\n",
       "      <td>3.0</td>\n",
       "      <td>1.043032</td>\n",
       "    </tr>\n",
       "    <tr>\n",
       "      <th>Lot Area</th>\n",
       "      <td>2045.0</td>\n",
       "      <td>1300.0</td>\n",
       "      <td>70761.0</td>\n",
       "      <td>9920.165281</td>\n",
       "    </tr>\n",
       "    <tr>\n",
       "      <th>Lot Frontage</th>\n",
       "      <td>2045.0</td>\n",
       "      <td>21.0</td>\n",
       "      <td>313.0</td>\n",
       "      <td>69.697034</td>\n",
       "    </tr>\n",
       "    <tr>\n",
       "      <th>Low Qual Fin SF</th>\n",
       "      <td>2045.0</td>\n",
       "      <td>0.0</td>\n",
       "      <td>1064.0</td>\n",
       "      <td>5.529095</td>\n",
       "    </tr>\n",
       "    <tr>\n",
       "      <th>MS SubClass</th>\n",
       "      <td>2045.0</td>\n",
       "      <td>20.0</td>\n",
       "      <td>190.0</td>\n",
       "      <td>57.078240</td>\n",
       "    </tr>\n",
       "    <tr>\n",
       "      <th>Mas Vnr Area</th>\n",
       "      <td>2045.0</td>\n",
       "      <td>0.0</td>\n",
       "      <td>1600.0</td>\n",
       "      <td>98.368704</td>\n",
       "    </tr>\n",
       "    <tr>\n",
       "      <th>Misc Val</th>\n",
       "      <td>2045.0</td>\n",
       "      <td>0.0</td>\n",
       "      <td>17000.0</td>\n",
       "      <td>51.481174</td>\n",
       "    </tr>\n",
       "    <tr>\n",
       "      <th>Mo Sold</th>\n",
       "      <td>2045.0</td>\n",
       "      <td>1.0</td>\n",
       "      <td>12.0</td>\n",
       "      <td>6.221027</td>\n",
       "    </tr>\n",
       "    <tr>\n",
       "      <th>Open Porch SF</th>\n",
       "      <td>2045.0</td>\n",
       "      <td>0.0</td>\n",
       "      <td>547.0</td>\n",
       "      <td>47.624939</td>\n",
       "    </tr>\n",
       "    <tr>\n",
       "      <th>Pool Area</th>\n",
       "      <td>2045.0</td>\n",
       "      <td>0.0</td>\n",
       "      <td>800.0</td>\n",
       "      <td>2.404890</td>\n",
       "    </tr>\n",
       "    <tr>\n",
       "      <th>SalePrice</th>\n",
       "      <td>2045.0</td>\n",
       "      <td>12789.0</td>\n",
       "      <td>611657.0</td>\n",
       "      <td>181389.461614</td>\n",
       "    </tr>\n",
       "    <tr>\n",
       "      <th>Screen Porch</th>\n",
       "      <td>2045.0</td>\n",
       "      <td>0.0</td>\n",
       "      <td>490.0</td>\n",
       "      <td>16.559902</td>\n",
       "    </tr>\n",
       "    <tr>\n",
       "      <th>TotRms AbvGrd</th>\n",
       "      <td>2045.0</td>\n",
       "      <td>2.0</td>\n",
       "      <td>15.0</td>\n",
       "      <td>6.437164</td>\n",
       "    </tr>\n",
       "    <tr>\n",
       "      <th>Total Bsmt SF</th>\n",
       "      <td>2045.0</td>\n",
       "      <td>0.0</td>\n",
       "      <td>6110.0</td>\n",
       "      <td>1056.711980</td>\n",
       "    </tr>\n",
       "    <tr>\n",
       "      <th>Wood Deck SF</th>\n",
       "      <td>2045.0</td>\n",
       "      <td>0.0</td>\n",
       "      <td>1424.0</td>\n",
       "      <td>93.838142</td>\n",
       "    </tr>\n",
       "    <tr>\n",
       "      <th>Year Built</th>\n",
       "      <td>2045.0</td>\n",
       "      <td>1872.0</td>\n",
       "      <td>2010.0</td>\n",
       "      <td>1971.748655</td>\n",
       "    </tr>\n",
       "    <tr>\n",
       "      <th>Year Remod/Add</th>\n",
       "      <td>2045.0</td>\n",
       "      <td>1950.0</td>\n",
       "      <td>2010.0</td>\n",
       "      <td>1984.187286</td>\n",
       "    </tr>\n",
       "    <tr>\n",
       "      <th>Yr Sold</th>\n",
       "      <td>2045.0</td>\n",
       "      <td>2006.0</td>\n",
       "      <td>2010.0</td>\n",
       "      <td>2007.775061</td>\n",
       "    </tr>\n",
       "    <tr>\n",
       "      <th>ord_Overall Cond</th>\n",
       "      <td>2045.0</td>\n",
       "      <td>1.0</td>\n",
       "      <td>9.0</td>\n",
       "      <td>5.561369</td>\n",
       "    </tr>\n",
       "    <tr>\n",
       "      <th>ord_Overall Qual</th>\n",
       "      <td>2045.0</td>\n",
       "      <td>1.0</td>\n",
       "      <td>10.0</td>\n",
       "      <td>6.112958</td>\n",
       "    </tr>\n",
       "  </tbody>\n",
       "</table>\n",
       "</div>"
      ],
      "text/plain": [
       "                   count      min       max           mean\n",
       "1st Flr SF        2045.0    334.0    5095.0    1163.786308\n",
       "2nd Flr SF        2045.0      0.0    1862.0     329.519804\n",
       "3Ssn Porch        2045.0      0.0     508.0       2.599022\n",
       "Bedroom AbvGr     2045.0      0.0       8.0       2.843521\n",
       "Bsmt Full Bath    2045.0      0.0       3.0       0.426895\n",
       "Bsmt Half Bath    2045.0      0.0       2.0       0.063081\n",
       "Bsmt Unf SF       2045.0      0.0    2336.0     567.578484\n",
       "BsmtFin SF 1      2045.0      0.0    5644.0     441.454768\n",
       "BsmtFin SF 2      2045.0      0.0    1474.0      47.678729\n",
       "Enclosed Porch    2045.0      0.0     432.0      22.510024\n",
       "Fireplaces        2045.0      0.0       4.0       0.589242\n",
       "Full Bath         2045.0      0.0       4.0       1.577017\n",
       "Garage Area       2045.0      0.0    1418.0     473.431296\n",
       "Garage Cars       2045.0      0.0       5.0       1.776039\n",
       "Garage Yr Blt     2045.0      0.0    2207.0    1869.395110\n",
       "Gr Liv Area       2045.0    334.0    5642.0    1498.835208\n",
       "Half Bath         2045.0      0.0       2.0       0.372127\n",
       "Kitchen AbvGr     2045.0      0.0       3.0       1.043032\n",
       "Lot Area          2045.0   1300.0   70761.0    9920.165281\n",
       "Lot Frontage      2045.0     21.0     313.0      69.697034\n",
       "Low Qual Fin SF   2045.0      0.0    1064.0       5.529095\n",
       "MS SubClass       2045.0     20.0     190.0      57.078240\n",
       "Mas Vnr Area      2045.0      0.0    1600.0      98.368704\n",
       "Misc Val          2045.0      0.0   17000.0      51.481174\n",
       "Mo Sold           2045.0      1.0      12.0       6.221027\n",
       "Open Porch SF     2045.0      0.0     547.0      47.624939\n",
       "Pool Area         2045.0      0.0     800.0       2.404890\n",
       "SalePrice         2045.0  12789.0  611657.0  181389.461614\n",
       "Screen Porch      2045.0      0.0     490.0      16.559902\n",
       "TotRms AbvGrd     2045.0      2.0      15.0       6.437164\n",
       "Total Bsmt SF     2045.0      0.0    6110.0    1056.711980\n",
       "Wood Deck SF      2045.0      0.0    1424.0      93.838142\n",
       "Year Built        2045.0   1872.0    2010.0    1971.748655\n",
       "Year Remod/Add    2045.0   1950.0    2010.0    1984.187286\n",
       "Yr Sold           2045.0   2006.0    2010.0    2007.775061\n",
       "ord_Overall Cond  2045.0      1.0       9.0       5.561369\n",
       "ord_Overall Qual  2045.0      1.0      10.0       6.112958"
      ]
     },
     "execution_count": 119,
     "metadata": {},
     "output_type": "execute_result"
    }
   ],
   "source": [
    "train_df[sorted(train_df.select_dtypes(include=\"number\").columns)].agg(['count','min','max','mean']).T\n"
   ]
  },
  {
   "cell_type": "code",
   "execution_count": 120,
   "metadata": {},
   "outputs": [
    {
     "name": "stdout",
     "output_type": "stream",
     "text": [
      "ord_Lot Shape:\n",
      "Reg    1294\n",
      "IR1     689\n",
      "IR2      53\n",
      "IR3       9\n",
      "Name: ord_Lot Shape, dtype: int64\n",
      "---------------------------------\n",
      "ord_Utilities:\n",
      "AllPub    2043\n",
      "NoSewr       1\n",
      "NoSeWa       1\n",
      "Name: ord_Utilities, dtype: int64\n",
      "---------------------------------\n",
      "ord_Land Slope:\n",
      "Gtl    1950\n",
      "Mod      88\n",
      "Sev       7\n",
      "Name: ord_Land Slope, dtype: int64\n",
      "---------------------------------\n",
      "ord_Overall Qual:\n",
      "5     561\n",
      "6     505\n",
      "7     430\n",
      "8     249\n",
      "4     158\n",
      "9      77\n",
      "3      29\n",
      "10     23\n",
      "2       9\n",
      "1       4\n",
      "Name: ord_Overall Qual, dtype: int64\n",
      "---------------------------------\n",
      "ord_Overall Cond:\n",
      "5    1165\n",
      "6     367\n",
      "7     268\n",
      "8     101\n",
      "4      70\n",
      "3      35\n",
      "9      29\n",
      "2       6\n",
      "1       4\n",
      "Name: ord_Overall Cond, dtype: int64\n",
      "---------------------------------\n",
      "ord_Exter Qual:\n",
      "TA    1243\n",
      "Gd     695\n",
      "Ex      81\n",
      "Fa      26\n",
      "Name: ord_Exter Qual, dtype: int64\n",
      "---------------------------------\n",
      "ord_Exter Cond:\n",
      "TA    1772\n",
      "Gd     215\n",
      "Fa      49\n",
      "Ex       7\n",
      "Po       2\n",
      "Name: ord_Exter Cond, dtype: int64\n",
      "---------------------------------\n",
      "ord_Bsmt Qual:\n",
      "TA     886\n",
      "Gd     860\n",
      "Ex     184\n",
      "Fa      60\n",
      "N_A     54\n",
      "Po       1\n",
      "Name: ord_Bsmt Qual, dtype: int64\n",
      "---------------------------------\n",
      "ord_Bsmt Cond:\n",
      "TA     1829\n",
      "Gd       89\n",
      "Fa       65\n",
      "N_A      54\n",
      "Po        5\n",
      "Ex        3\n",
      "Name: ord_Bsmt Cond, dtype: int64\n",
      "---------------------------------\n",
      "ord_Bsmt Exposure:\n",
      "No     1337\n",
      "Av      287\n",
      "Gd      201\n",
      "Mn      163\n",
      "N_A      57\n",
      "Name: ord_Bsmt Exposure, dtype: int64\n",
      "---------------------------------\n",
      "ord_BsmtFin Type 1:\n",
      "GLQ    613\n",
      "Unf    603\n",
      "ALQ    292\n",
      "BLQ    199\n",
      "Rec    182\n",
      "LwQ    102\n",
      "N_A     54\n",
      "Name: ord_BsmtFin Type 1, dtype: int64\n",
      "---------------------------------\n",
      "ord_BsmtFin Type 2:\n",
      "Unf    1746\n",
      "Rec      79\n",
      "LwQ      60\n",
      "N_A      54\n",
      "BLQ      48\n",
      "ALQ      35\n",
      "GLQ      23\n",
      "Name: ord_BsmtFin Type 2, dtype: int64\n",
      "---------------------------------\n",
      "ord_Heating QC:\n",
      "Ex    1063\n",
      "TA     594\n",
      "Gd     318\n",
      "Fa      67\n",
      "Po       3\n",
      "Name: ord_Heating QC, dtype: int64\n",
      "---------------------------------\n",
      "ord_Electrical:\n",
      "SBrkr    1863\n",
      "FuseA     139\n",
      "FuseF      35\n",
      "FuseP       7\n",
      "Mix         1\n",
      "Name: ord_Electrical, dtype: int64\n",
      "---------------------------------\n",
      "ord_Kitchen Qual:\n",
      "TA    1045\n",
      "Gd     802\n",
      "Ex     151\n",
      "Fa      47\n",
      "Name: ord_Kitchen Qual, dtype: int64\n",
      "---------------------------------\n",
      "ord_Functional:\n",
      "Typ     1910\n",
      "Min2      42\n",
      "Min1      41\n",
      "Mod       29\n",
      "Maj1      12\n",
      "Maj2       7\n",
      "Sal        2\n",
      "Sev        2\n",
      "Name: ord_Functional, dtype: int64\n",
      "---------------------------------\n",
      "ord_Fireplace Qu:\n",
      "N_A    998\n",
      "Gd     522\n",
      "TA     404\n",
      "Fa      59\n",
      "Po      31\n",
      "Ex      31\n",
      "Name: ord_Fireplace Qu, dtype: int64\n",
      "---------------------------------\n",
      "ord_Garage Finish:\n",
      "Unf    846\n",
      "RFn    578\n",
      "Fin    508\n",
      "N_A    113\n",
      "Name: ord_Garage Finish, dtype: int64\n",
      "---------------------------------\n",
      "ord_Garage Qual:\n",
      "TA     1827\n",
      "N_A     113\n",
      "Fa       82\n",
      "Gd       18\n",
      "Ex        3\n",
      "Po        2\n",
      "Name: ord_Garage Qual, dtype: int64\n",
      "---------------------------------\n",
      "ord_Garage Cond:\n",
      "TA     1863\n",
      "N_A     113\n",
      "Fa       47\n",
      "Gd       12\n",
      "Po        8\n",
      "Ex        2\n",
      "Name: ord_Garage Cond, dtype: int64\n",
      "---------------------------------\n",
      "ord_Paved Drive:\n",
      "Y    1856\n",
      "N     150\n",
      "P      39\n",
      "Name: ord_Paved Drive, dtype: int64\n",
      "---------------------------------\n",
      "ord_Pool QC:\n",
      "N_A    2036\n",
      "Gd        4\n",
      "TA        2\n",
      "Fa        2\n",
      "Ex        1\n",
      "Name: ord_Pool QC, dtype: int64\n",
      "---------------------------------\n",
      "ord_Fence:\n",
      "N_A      1647\n",
      "MnPrv     225\n",
      "GdPrv      83\n",
      "GdWo       80\n",
      "MnWw       10\n",
      "Name: ord_Fence, dtype: int64\n",
      "---------------------------------\n"
     ]
    }
   ],
   "source": [
    "###### Distribution for Ordinal variables\n",
    "#\n",
    "\n",
    "for col in test_df.columns[test_df.columns.str.startswith('ord')]:\n",
    "    print(f\"{col}:\\n{train_df[col].value_counts()}\")\n",
    "    print(f\"---------------------------------\")\n",
    "                           "
   ]
  },
  {
   "cell_type": "code",
   "execution_count": 121,
   "metadata": {},
   "outputs": [],
   "source": [
    "###### Are outliers identified and addressed?\n"
   ]
  },
  {
   "cell_type": "code",
   "execution_count": null,
   "metadata": {},
   "outputs": [],
   "source": []
  },
  {
   "cell_type": "code",
   "execution_count": 122,
   "metadata": {},
   "outputs": [],
   "source": [
    "###### Are appropriate summary statistics provided?"
   ]
  },
  {
   "cell_type": "markdown",
   "metadata": {},
   "source": [
    "### Section 6 Save cleaned data frame  to a file> <a id= 'save_cleaned_dataframe'></a>"
   ]
  },
  {
   "cell_type": "code",
   "execution_count": 123,
   "metadata": {},
   "outputs": [],
   "source": [
    "train_df.to_csv(\"./submission/train_cleaned.csv\",index=False)\n",
    "test_df.to_csv(\"./submission/test_cleaned.csv\",index=False)"
   ]
  },
  {
   "cell_type": "markdown",
   "metadata": {},
   "source": [
    "<a id='References'/>"
   ]
  },
  {
   "cell_type": "markdown",
   "metadata": {},
   "source": [
    "###### References\n",
    "\n",
    " General assembly . - EDA Walkthrough  Notebook\n",
    " \n",
    " https://www.gimme-shelter.com/frontage-50043/ : width at the front is also known as frontage\n",
    " \n",
    " https://medium.com/@george.drakos62/handling-missing-values-in-machine-learning-part-1-dda69d4f88ca?\n",
    " \n",
    "https://sebastianraschka.com/Articles/2014_ipython_internal_links.html\n",
    "\n",
    " https://stackoverflow.com/questions/37366717/pandas-print-column-name-with-missing-values"
   ]
  }
 ],
 "metadata": {
  "kernelspec": {
   "display_name": "Python 3",
   "language": "python",
   "name": "python3"
  },
  "language_info": {
   "codemirror_mode": {
    "name": "ipython",
    "version": 3
   },
   "file_extension": ".py",
   "mimetype": "text/x-python",
   "name": "python",
   "nbconvert_exporter": "python",
   "pygments_lexer": "ipython3",
   "version": "3.7.4"
  }
 },
 "nbformat": 4,
 "nbformat_minor": 2
}
