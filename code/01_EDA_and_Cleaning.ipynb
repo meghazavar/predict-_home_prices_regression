{
 "cells": [
  {
   "cell_type": "markdown",
   "metadata": {},
   "source": [
    "\n",
    "- [ ] [Packages and data import](#import_package)\n",
    "- [ ] [section 2 High level overview of columns](#high_level_overview_of_columns)\n",
    "- [ ] [section 3 Identify missing data ](#identify-missing_Data)\n",
    "- [ ] [section 4.A Handling missing Training data ](#handling-missing_Data)\n",
    "- [ ] [section 4.B Handling missing Test data](#handling-missing_Data)\n",
    "- [ ] [section 5 distributions examinination and description](#dist_exam_and_describe)\n",
    "- [ ] [section 6 Save cleaned data frame to a file](#dist_exam_and_describe)\n",
    "- [ ] [Section  - Refeneces](#References)\n",
    "### Section 4B cleaning Test dataset<a id='cleaning_test_dataset'></a>"
   ]
  },
  {
   "cell_type": "markdown",
   "metadata": {},
   "source": [
    "\n",
    "- [x]Are missing values imputed appropriately?\n",
    "- [ ]Are distributions examined and described?\n",
    "- [ ]Are outliers identified and addressed?\n",
    "- [ ]Are appropriate summary statistics provided?\n",
    "- [ ]Are steps taken during data cleaning and EDA framed appropriately?\n",
    "- [ ]Does the student address whether or not they are likely to be able to answer their problem statement with the -provided data given what they've discovered during EDA?"
   ]
  },
  {
   "cell_type": "markdown",
   "metadata": {},
   "source": [
    "<a id=\"import_package>\n",
    "### Section 1: Packages and data import"
   ]
  },
  {
   "cell_type": "markdown",
   "metadata": {},
   "source": [
    "<a id=\"high_level_overview_of_columns\">\n",
    "    \n",
    "### Section 2: High level  overview of columns\n",
    "A detailed dictionary can be found under the documents folder.Following tables provide a quick summary of data available.\n",
    "There are 78 attributes of a house provided."
   ]
  },
  {
   "cell_type": "markdown",
   "metadata": {},
   "source": [
    "|Feature|Type|Description|\n",
    "|---|---|---|\n",
    "|state|object|SAT|\n",
    "|Id|  |  | \n",
    "|PID|  |  | \n",
    "|MS SubClass|  |  Identifies the type of dwelling involved in the sale.| \n",
    "|MS Zoning|  | Identifies the general zoning classification of the sale | \n",
    "|Lot Frontage|  | Linear feet of street connected to property | \n",
    "|Lot Area|  |  Lot size in square feet|\n",
    "|Street|  | Type of road access to property | \n",
    "|Alley|  | Type of alley access to property | \n",
    "|Lot Shape|  | General shape of property | \n",
    "|Land Contour|  | Flatness of the property | \n",
    "|Utilities|  |  Type of utilities available|\n",
    "|Lot Config|  | Lot configuration | \n",
    "|Land Slope|  | Slope of property | \n",
    "|Neighborhood|  |Physical locations within Ames city limits  | \n",
    "|Condition 1|  | Proximity to various conditions |\n",
    "|Condition 2|  | Proximity to various conditions (if more than one is present) | \n",
    "|Bldg Type|  |  Type of dwelling| '\n",
    "|House Style|  | Style of dwelling | \n",
    "|Overall Qual|  | Rates the overall material and finish of the house |\n",
    "|Overall Cond|  |Rates the overall condition of the house  | \n",
    "|Year Built|  | Original construction date | \n",
    "|Year Remod/Add|  | Remodel date (same as construction date if no remodeling or additions) | \n",
    "|Roof Style|  |  Type of roof|\n",
    "|Roof Matl|  | Roof material | \n",
    "|Exterior 1st|  | Exterior covering on house | \n",
    "|Exterior 2nd|  | Exterior covering on house (if more than one material) | \n",
    "|Mas Vnr Type|  | Masonry veneer type |\n",
    "|Mas Vnr Area|  | Masonry veneer area in square feet | \n",
    "|Exter Qual|  | Evaluates the quality of the material on the exterior | \n",
    "|Exter Cond|  | Evaluates the present condition of the material on the exterior | \n",
    "|Foundation|  | Type of foundation | \n",
    "|Bsmt Qual|  |  Evaluates the height of the basement|\n",
    "|Bsmt Cond|  |  Evaluates the general condition of the basement| \n",
    "|Bsmt Exposure|  | Refers to walkout or garden level walls | \n",
    "|BsmtFin Type 1|  | Rating of basement finished area | \n",
    "|BsmtFin SF 1|  | Type 1 finished square feet |\n",
    "|BsmtFin Type 2|  |Rating of basement finished area (if multiple types)  | \n",
    "|BsmtFin SF 2|  | Type 2 finished square feet | \n",
    "|Bsmt Unf SF|  | Unfinished square feet of basement area | \n",
    "|Total Bsmt SF|  |Total square feet of basement area  |\n",
    "|Heating|  | Type of heating | \n",
    "|Heating QC|  | Heating quality and condition | \n",
    "|Central Air|  | Central air conditioning | \n",
    "|Electrical|  | Electrical system | \n",
    "|1st Flr SF|  |  First Floor square feet|\n",
    "|2nd Flr SF|  | Second floor square feet | \n",
    "|Low Qual Fin SF|  | Low quality finished square feet (all floors) | \n",
    "|Gr Liv Area|  | Above grade (ground) living area square feet | \n",
    "|Bsmt Full Bath|  | Basement full bathrooms |\n",
    "|Bsmt Half Bath|  | Basement half bathrooms | \n",
    "|Full Bath|  |  Full bathrooms above grade| \n",
    "|Half Bath|  |  Half baths above grade| \n",
    "|Bedroom AbvGr|  | Bedrooms above grade (does NOT include basement bedrooms) |\n",
    "|Kitchen AbvGr|  | Kitchens above grade | \n",
    "|Kitchen Qual|  | Kitchen quality | \n",
    "|TotRms AbvGrd|  | Total rooms above grade (does not include bathrooms) | \n",
    "|Functional|  |  Home functionality (Assume typical unless deductions are warranted)|\n",
    "|Fireplaces|  |  Number of fireplaces| \n",
    "|Fireplace Qu|  | Fireplace quality | \n",
    "|Garage Type|  | Garage location | \n",
    "|Garage Yr Blt|  | Year garage was built |\n",
    "|Garage Finish|  | Interior finish of the garage | \n",
    "|Garage Cars|  | Size of garage in car capacity | \n",
    "|Garage Area|  | Size of garage in square feet | \n",
    "|Garage Qual|  | Garage quality |\n",
    "|Garage Cond|  | Garage condition | \n",
    "|Paved Drive|  | Paved driveway | \n",
    "|Wood Deck SF|  | Wood deck area in square feet | \n",
    "|Open Porch SF|  | Open porch area in square feet |\n",
    "|Enclosed Porch|  | Enclosed porch area in square feet | \n",
    "|3Ssn Porch|  | Three season porch area in square feet | \n",
    "|Screen Porch|  | Screen porch area in square feet | \n",
    "|Pool Area|  |  Pool area in square feet| \n",
    "|**Pool QC** | string | Pool quality |\n",
    "|Fence|  | Fence quality | \n",
    "|Misc Feature|  | Miscellaneous feature not covered in other categories  | \n",
    "|Misc Val|  |  $Value of miscellaneous feature| \n",
    "|Mo Sold|  |  Month Sold (MM)| \n",
    "|Yr Sold|  |  Year Sold (YYYY)| \n",
    "|Sale Type|  | Type of sale |\n",
    "|SalePrice|  |  Condition of sale|"
   ]
  },
  {
   "cell_type": "code",
   "execution_count": 38,
   "metadata": {},
   "outputs": [],
   "source": [
    "import pandas as pd\n",
    "import numpy as np\n",
    "import seaborn as sns\n",
    "import matplotlib.pyplot as plt\n",
    "%matplotlib inline"
   ]
  },
  {
   "cell_type": "code",
   "execution_count": 39,
   "metadata": {},
   "outputs": [
    {
     "data": {
      "text/plain": [
       "((2051, 81), (878, 80))"
      ]
     },
     "execution_count": 39,
     "metadata": {},
     "output_type": "execute_result"
    }
   ],
   "source": [
    "train_df =pd.read_csv(\"../datasets/train.csv\")\n",
    "test_df =pd.read_csv(\"../datasets/test.csv\")\n",
    "\n",
    "from clean import DataCleaner;\n",
    "train_ds_cleaner = DataCleaner(train_df)\n",
    "test_ds_cleaner =DataCleaner(test_df)\n",
    "#cleaner_inline = DataCleaner_inline(df)\n",
    "\n",
    "train_df.shape ,test_df.shape"
   ]
  },
  {
   "cell_type": "markdown",
   "metadata": {},
   "source": [
    "### Section 3 Identify missing data  <a id='identify-missing_Data'></a>\n",
    "\n",
    "The  following query identifies the missing columns.\n",
    "26 columns  out of 78 feature columns have atlease one more missing values.\n",
    " \n",
    "###### Categorical columns with missing data  are as follows\n",
    "Pool Q,\n",
    "Fence,\n",
    "Misc Feature\n",
    "Alley',\n",
    "Fireplace Qu, \n",
    "Mas Vnr Type', \n",
    "'Bsmt Qual', 'Bsmt Cond', 'Bsmt Exposure','BsmtFin Type 1', 'BsmtFin Type 2', \n",
    "'Garage Type','Garage Finish', 'Garage Qual', 'Garage Cond', "
   ]
  },
  {
   "cell_type": "code",
   "execution_count": 40,
   "metadata": {},
   "outputs": [
    {
     "name": "stdout",
     "output_type": "stream",
     "text": [
      "missing non-numerical columns\n",
      " training :       Alley Mas Vnr Type Bsmt Qual Bsmt Cond Bsmt Exposure BsmtFin Type 1 BsmtFin Type 2 Fireplace Qu Garage Type Garage Finish Garage Qual Garage Cond Pool QC Fence Misc Feature\n",
      "\n",
      " test:Alley Mas Vnr Type Bsmt Qual Bsmt Cond Bsmt Exposure BsmtFin Type 1 BsmtFin Type 2 Electrical Fireplace Qu Garage Type Garage Finish Garage Qual Garage Cond Pool QC Fence Misc Feature\n"
     ]
    }
   ],
   "source": [
    "#train_df[train_ds_cleaner.missing_non_numerical_columns()].isnull().any() \n",
    "miss_nonnum_train_cols = ' '.join(train_ds_cleaner.missing_non_numerical_columns())\n",
    "miss_nonnum_test_cols = ' '.join(test_ds_cleaner.missing_non_numerical_columns())\n",
    "print( f'missing non-numerical columns\\n training : \\\n",
    "      {miss_nonnum_train_cols}\\n\\n test:{miss_nonnum_test_cols}')"
   ]
  },
  {
   "cell_type": "markdown",
   "metadata": {},
   "source": [
    "###### Numerical columns with missing data\n",
    "Lot Frontage', 'Mas Vnr Area',\n",
    "'BsmtFin SF 1', 'BsmtFin SF 2','Bsmt Unf SF', 'Total Bsmt SF', 'Bsmt Full Bath', 'Bsmt Half Bath',\n",
    "'Garage Yr Blt', 'Garage Cars', 'Garage Area'"
   ]
  },
  {
   "cell_type": "code",
   "execution_count": 41,
   "metadata": {},
   "outputs": [
    {
     "name": "stdout",
     "output_type": "stream",
     "text": [
      "missing numerical columns\n",
      " training :       Lot Frontage Mas Vnr Area BsmtFin SF 1 BsmtFin SF 2 Bsmt Unf SF Total Bsmt SF Bsmt Full Bath Bsmt Half Bath Garage Yr Blt Garage Cars Garage Area\n",
      "\n",
      " test:Lot Frontage Mas Vnr Area Garage Yr Blt\n"
     ]
    }
   ],
   "source": [
    "#train_df[train_df.columns[train_df.isnull().any()]].select_dtypes(include =\"number\").columns\n",
    "missing_num_train_cols = ' '.join(train_ds_cleaner.missing_numerical_columns())\n",
    "missing_num_test_cols = ' '.join(test_ds_cleaner.missing_numerical_columns())\n",
    "print( f'missing numerical columns\\n training : \\\n",
    "      {missing_num_train_cols}\\n\\n test:{missing_num_test_cols}')"
   ]
  },
  {
   "cell_type": "markdown",
   "metadata": {},
   "source": [
    "###### Missing columns with highest to lowest in ratio"
   ]
  },
  {
   "cell_type": "code",
   "execution_count": 42,
   "metadata": {},
   "outputs": [
    {
     "name": "stdout",
     "output_type": "stream",
     "text": [
      "Pool QC           99.561190\n",
      "Misc Feature      96.830814\n",
      "Alley             93.174061\n",
      "Fence             80.497318\n",
      "Fireplace Qu      48.756704\n",
      "Lot Frontage      16.089712\n",
      "Garage Yr Blt      5.558264\n",
      "Garage Cond        5.558264\n",
      "Garage Qual        5.558264\n",
      "Garage Finish      5.558264\n",
      "Garage Type        5.509508\n",
      "Bsmt Exposure      2.827889\n",
      "BsmtFin Type 2     2.730375\n",
      "Bsmt Cond          2.681619\n",
      "Bsmt Qual          2.681619\n",
      "BsmtFin Type 1     2.681619\n",
      "Mas Vnr Type       1.072647\n",
      "Mas Vnr Area       1.072647\n",
      "Bsmt Half Bath     0.097513\n",
      "Bsmt Full Bath     0.097513\n",
      "Garage Cars        0.048757\n",
      "BsmtFin SF 1       0.048757\n",
      "BsmtFin SF 2       0.048757\n",
      "Bsmt Unf SF        0.048757\n",
      "Garage Area        0.048757\n",
      "Total Bsmt SF      0.048757\n",
      "dtype: float64\n"
     ]
    }
   ],
   "source": [
    "train_ds_cleaner.disp_missing_data()"
   ]
  },
  {
   "cell_type": "markdown",
   "metadata": {},
   "source": [
    "### Section 4.A  Handling missing training data  <a id='handling-missing_Data'></a>\n",
    "There are total 26 features that has missing atleast a value. Also , while most of the  columns have missing data less than 5  percent. There are 5 features where very high number of data is missing. Multiple stragtegies were  employed to impute or drop data and  we will disucss each column and the reasonings here .\n",
    "\n",
    "###### 1. Pool  and Fireplace  , Garage and basement   attributes were set to 'NA' when the pool or fireplace , garage or basement itself didn't exist.\n"
   ]
  },
  {
   "cell_type": "code",
   "execution_count": 43,
   "metadata": {},
   "outputs": [],
   "source": [
    "train_df =train_ds_cleaner.Replace_pool_quality_as_na_if_no_pool()\n",
    "train_df =train_ds_cleaner.Replace_fireplace_quality_as_na_if_no_fireplace()\n",
    "train_df =train_ds_cleaner.Replace_garage_attributes_as_na_if_no_garage()\n",
    "train_df =train_ds_cleaner.Replace_basement_attributes_as_na_if_no_basement()"
   ]
  },
  {
   "cell_type": "markdown",
   "metadata": {},
   "source": [
    "###### 2. columns 'Misc Feature' and  'Alley'  and 'Fence' attributes set to Na\n",
    "With 96% and 93% and 80 % missing data for the three columns respectively .I decided to assign no 'NA' for houses that were missing this information ."
   ]
  },
  {
   "cell_type": "code",
   "execution_count": 44,
   "metadata": {},
   "outputs": [],
   "source": [
    "train_df =train_ds_cleaner.Replace_misc_feature_as_na_if_null()\n",
    "train_df =train_ds_cleaner.Replace_access_to_Alley_as_na_if_null()\n",
    "train_df =train_ds_cleaner.Replace_fence_as_na_if_null()"
   ]
  },
  {
   "cell_type": "markdown",
   "metadata": {},
   "source": [
    "###### 2. column  'Lot  frontage'  is  width of a lot, measured at the front part of the lot for a house.\n",
    "It would make sense that lot width and lot area are co-related calculating area would depend on width.\n",
    "Following scatter plot also demonstrates a positive , perhaps weak co-relation between the two.\n",
    "So I decided to populate the lot frontage using the average lot frontage for houses that have similar area  ( with in +/- 5 percent threshold)"
   ]
  },
  {
   "cell_type": "code",
   "execution_count": 45,
   "metadata": {},
   "outputs": [
    {
     "data": {
      "text/plain": [
       "Text(0, 0.5, 'Lot frontage')"
      ]
     },
     "execution_count": 45,
     "metadata": {},
     "output_type": "execute_result"
    },
    {
     "data": {
      "image/png": "[encoded data removed]",
      "text/plain": [
       "<Figure size 432x288 with 1 Axes>"
      ]
     },
     "metadata": {
      "needs_background": "light"
     },
     "output_type": "display_data"
    }
   ],
   "source": [
    "plt.scatter(train_df['Lot Area'],train_df['Lot Frontage'])\n",
    "plt.xlabel(\"Lot area\")\n",
    "plt.ylabel(\"Lot frontage\")"
   ]
  },
  {
   "cell_type": "code",
   "execution_count": 46,
   "metadata": {},
   "outputs": [],
   "source": [
    "train_df =train_ds_cleaner.impute_lot_frontage_with_avg_of_similar_homes()"
   ]
  },
  {
   "cell_type": "markdown",
   "metadata": {},
   "source": [
    "######  If to many columns are missing  drop the  rows al-together\n",
    "My first attempt is to find is multiple columns are empty  and is so then dropping the row than tryign to fill all the values as  hence I am going to drop the following 2 rows."
   ]
  },
  {
   "cell_type": "code",
   "execution_count": 47,
   "metadata": {},
   "outputs": [],
   "source": [
    "train_df= train_df[~(train_df['Bsmt Qual'].isnull() &\n",
    "   train_df['Bsmt Exposure'].isnull() &train_df['Bsmt Full Bath'].isnull() &\n",
    "   train_df['BsmtFin Type 1'].isnull() & train_df['BsmtFin Type 2'].isnull() &\n",
    "   train_df['Bsmt Cond'].isnull() & train_df['Total Bsmt SF'].isnull() \n",
    "    )\n",
    "  ]\n",
    "train_df =train_df[~(train_df['Garage Finish'].isnull() &\n",
    "   train_df['Garage Cars'].isnull() &\n",
    "   train_df['Garage Area'].isnull() &\n",
    "   train_df['Garage Qual'].isnull() &\n",
    "   train_df['Garage Cond'].isnull() )\n",
    "  ]"
   ]
  },
  {
   "cell_type": "markdown",
   "metadata": {},
   "source": [
    "######   opt in for most conservative option as  no option is  spcified on Masaonary venner type\n",
    "For Masonry veneer type , among the  four options . None, Brkface,Stone,BrkCmn - I decided to opt for none as that was the most common choice among houses.\n",
    "Choosing Masonry veneer type  to none will mean the area to be zero"
   ]
  },
  {
   "cell_type": "code",
   "execution_count": 48,
   "metadata": {},
   "outputs": [],
   "source": [
    "train_df.loc[train_df['Mas Vnr Area'].isnull(),'Mas Vnr Area'] = 0\n",
    "train_df.loc[train_df['Mas Vnr Type'].isnull(),'Mas Vnr Type'] = 'None'\n",
    "train_df.loc[train_df['Bsmt Exposure'].isnull(),'Bsmt Exposure'] ='None'\n",
    "train_df.loc[train_df['BsmtFin Type 2'].isnull(),'BsmtFin Type 2']  = train_df.loc[train_df['BsmtFin Type 2'].isnull(),['BsmtFin Type 1']]"
   ]
  },
  {
   "cell_type": "markdown",
   "metadata": {},
   "source": [
    "######   Replacing these  missing data with  just  a value  without loosing data in  other columns for these row  model can work and we have all numbers,"
   ]
  },
  {
   "cell_type": "code",
   "execution_count": 49,
   "metadata": {},
   "outputs": [],
   "source": [
    "train_df.dropna(inplace=True)\n",
    "train_df.drop(columns=['PID','Id'],inplace=True)"
   ]
  },
  {
   "cell_type": "code",
   "execution_count": 53,
   "metadata": {},
   "outputs": [
    {
     "name": "stdout",
     "output_type": "stream",
     "text": [
      "Lot Frontage     0.455581\n",
      "Garage Cond      0.113895\n",
      "Garage Qual      0.113895\n",
      "Garage Finish    0.113895\n",
      "Garage Yr Blt    0.113895\n",
      "Electrical       0.113895\n",
      "dtype: float64\n"
     ]
    }
   ],
   "source": [
    "test_ds_cleaner.disp_missing_data()"
   ]
  },
  {
   "cell_type": "markdown",
   "metadata": {},
   "source": [
    "### Section 4B cleaning Test dataset<a id='cleaning_test_dataset'></a>"
   ]
  },
  {
   "cell_type": "code",
   "execution_count": 51,
   "metadata": {},
   "outputs": [],
   "source": [
    "test_df =test_ds_cleaner.Replace_pool_quality_as_na_if_no_pool()\n",
    "test_df =test_ds_cleaner.Replace_misc_feature_as_na_if_null()\n",
    "test_df =test_ds_cleaner.Replace_access_to_Alley_as_na_if_null()\n",
    "test_df =test_ds_cleaner.Replace_fence_as_na_if_null()\n",
    "test_df =test_ds_cleaner.Replace_fireplace_quality_as_na_if_no_fireplace()\n",
    "test_df =test_ds_cleaner.impute_lot_frontage_with_avg_of_similar_homes()\n",
    "test_df =test_ds_cleaner.Replace_garage_attributes_as_na_if_no_garage()\n",
    "test_df =test_ds_cleaner.Replace_basement_attributes_as_na_if_no_basement()\n",
    "test_df.loc[test_df['Mas Vnr Area'].isnull(),'Mas Vnr Area'] = 0\n",
    "test_df.loc[test_df['Mas Vnr Type'].isnull(),'Mas Vnr Type'] = 'None'\n",
    "test_df.loc[test_df['Bsmt Exposure'].isnull(),'Bsmt Exposure'] ='None'"
   ]
  },
  {
   "cell_type": "markdown",
   "metadata": {},
   "source": [
    "### Section 5 Distribution examination and description<a id='dist_exam_and_describe'></a>"
   ]
  },
  {
   "cell_type": "code",
   "execution_count": 62,
   "metadata": {},
   "outputs": [
    {
     "data": {
      "text/plain": [
       "<matplotlib.axes._subplots.AxesSubplot at 0x1a20440bd0>"
      ]
     },
     "execution_count": 62,
     "metadata": {},
     "output_type": "execute_result"
    },
    {
     "data": {
      "image/png": "[encoded data removed]",
      "text/plain": [
       "<Figure size 432x864 with 2 Axes>"
      ]
     },
     "metadata": {
      "needs_background": "light"
     },
     "output_type": "display_data"
    }
   ],
   "source": [
    "apps_core = train_df.corr()[['SalePrice']].sort_values(by='SalePrice',ascending=False)\n",
    "\n",
    "plt.figure(figsize=(6,12))  # 6 by 12 inch to make plot bigger\n",
    "\n",
    "sns.heatmap(apps_core, vmin=-1,vmax=1,cmap='coolwarm',annot=True)"
   ]
  },
  {
   "cell_type": "markdown",
   "metadata": {},
   "source": [
    "### Section 6 Save cleaned data frame  to a file> <a id= 'save_cleaned_dataframe'></a>"
   ]
  },
  {
   "cell_type": "code",
   "execution_count": 52,
   "metadata": {},
   "outputs": [],
   "source": [
    "train_df.to_csv(\"./submission/train_cleaned.csv\",index=False)\n",
    "test_df.to_csv(\"./submission/test_cleaned.csv\",index=False)"
   ]
  },
  {
   "cell_type": "markdown",
   "metadata": {},
   "source": [
    "<a id='References'/>"
   ]
  },
  {
   "cell_type": "markdown",
   "metadata": {},
   "source": [
    "###### References\n",
    "\n",
    " General assembly . - EDA Walkthrough  Notebook\n",
    " \n",
    " https://www.gimme-shelter.com/frontage-50043/ : width at the front is also known as frontage\n",
    " \n",
    " https://medium.com/@george.drakos62/handling-missing-values-in-machine-learning-part-1-dda69d4f88ca?\n",
    " \n",
    "https://sebastianraschka.com/Articles/2014_ipython_internal_links.html\n",
    "\n",
    " https://stackoverflow.com/questions/37366717/pandas-print-column-name-with-missing-values"
   ]
  }
 ],
 "metadata": {
  "kernelspec": {
   "display_name": "Python 3",
   "language": "python",
   "name": "python3"
  },
  "language_info": {
   "codemirror_mode": {
    "name": "ipython",
    "version": 3
   },
   "file_extension": ".py",
   "mimetype": "text/x-python",
   "name": "python",
   "nbconvert_exporter": "python",
   "pygments_lexer": "ipython3",
   "version": "3.7.4"
  }
 },
 "nbformat": 4,
 "nbformat_minor": 2
}
