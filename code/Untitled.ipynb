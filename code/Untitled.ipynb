{
 "cells": [
  {
   "cell_type": "markdown",
   "metadata": {},
   "source": [
    "|Feature|percent missing |description|options|\n",
    "|---|---|---|---|\n",
    "| Pool QC|99.56| Pool quality | Ex -Excellent, Gd- Good,TA-Average/Typical,Fa-Fair,NA-No Pool|\n",
    "|Misc Feature|96.83| Miscellaneous feature not covered in other categories|Elev-Elevator, Gar2-2nd Garage (if not described in garage section, Othr-Other, Shed-Shed (over 100 SF)TenC-Tennis Court,NA-None|\n",
    "|Alley|93.17|Type of alley access to property|Grvl-Gravel,Pave-Paved, NA-No alley access|\n",
    "|Fence| 80.49|Fence quality| GdPrv- Good Privacy,MnPrv-Minimum Privacy,GdWo\tGood Wood,MnWw-Minimum Wood/Wire,NA\tNo Fence|\n",
    "|Fireplace Qu|48.75|Fireplace quality|Ex-Excellent Exceptional Masonry Fireplace,Gd-Good - Masonry Fireplace in main level,TA-Average - Prefabricated Fireplace in main living area or Masonry Fireplace in basement ,Fa-Fair - Prefabricated Fireplace in basement, Po\tPoor - Ben Franklin Stove,NA-No Fireplace"
   ]
  }
 ],
 "metadata": {
  "kernelspec": {
   "display_name": "Python 3",
   "language": "python",
   "name": "python3"
  },
  "language_info": {
   "codemirror_mode": {
    "name": "ipython",
    "version": 3
   },
   "file_extension": ".py",
   "mimetype": "text/x-python",
   "name": "python",
   "nbconvert_exporter": "python",
   "pygments_lexer": "ipython3",
   "version": "3.7.4"
  }
 },
 "nbformat": 4,
 "nbformat_minor": 2
}
