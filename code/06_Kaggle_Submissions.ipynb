{
 "cells": [
  {
   "cell_type": "code",
   "execution_count": 9,
   "metadata": {},
   "outputs": [],
   "source": [
    "import pandas as pd\n",
    "from sklearn.linear_model import LinearRegression\n",
    "from sklearn.model_selection import train_test_split, cross_val_score\n",
    "from sklearn import metrics\n",
    "import numpy as np\n",
    "import matplotlib.pyplot as plt\n",
    "import seaborn as sns"
   ]
  },
  {
   "cell_type": "code",
   "execution_count": 10,
   "metadata": {},
   "outputs": [],
   "source": [
    "#Model 1\n",
    "#train_input_file = \"./submission/train_cleaned.csv\"\n",
    "#test_input_file =\"./submission/test_cleaned.csv\"\n",
    "# features =[\n",
    "# 'ordinal_Overall Qual','Gr Liv Area','Garage Area','Total Bsmt SF',\n",
    "# '1st Flr SF','Year Built','Year Remod/Add','Full Bath', 'TotRms AbvGrd',\n",
    "# 'Mas Vnr Area', 'Fireplaces','BsmtFin SF 1','Lot Area','Open Porch SF',\n",
    "# 'Lot Frontage','Wood Deck SF','Half Bath'\n",
    "# ]"
   ]
  },
  {
   "cell_type": "code",
   "execution_count": 11,
   "metadata": {},
   "outputs": [],
   "source": [
    "train_input_file = \"./submission/train_cleaned_ord.csv\"\n",
    "test_input_file =\"./submission/test_cleaned_ord.csv\""
   ]
  },
  {
   "cell_type": "code",
   "execution_count": 12,
   "metadata": {},
   "outputs": [],
   "source": [
    "train_df = pd.read_csv(train_input_file)\n",
    "test_df =pd.read_csv(test_input_file)"
   ]
  },
  {
   "cell_type": "code",
   "execution_count": 13,
   "metadata": {},
   "outputs": [
    {
     "data": {
      "text/plain": [
       "Garage Yr Blt    0.113895\n",
       "dtype: float64"
      ]
     },
     "execution_count": 13,
     "metadata": {},
     "output_type": "execute_result"
    }
   ],
   "source": [
    "column_null_counts = test_df.isnull().sum() *100/ len(test_df) #Filter to find missing data in percetage \n",
    "missing_data_columns =column_null_counts[column_null_counts >0] # get only columns where missing data  >0\n",
    "missing_data_columns.sort_values(ascending=False) # display them in highest missing data at top"
   ]
  },
  {
   "cell_type": "markdown",
   "metadata": {},
   "source": [
    "columns_to_drop =['SalePrice','MS SubClass',\n",
    "                  'Misc Val', 'Mo Sold', 'Yr Sold',\n",
    "                   'Low Qual Fin SF',\n",
    "                  'Year Built', 'Mas Vnr Area', 'Bsmt Unf SF','Garage Yr Blt',\n",
    "                 'Screen Porch',\n",
    "                  '3Ssn Porch','Lot Frontage']\n",
    "features =  df_train._get_numeric_data().drop(columns =columns_to_drop).columns                  "
   ]
  },
  {
   "cell_type": "code",
   "execution_count": 14,
   "metadata": {},
   "outputs": [],
   "source": [
    "# features =[\n",
    "# 'ordinal_Overall Qual','ordinal_Exter Qual','Gr Liv Area','ordinal_Kitchen Qual','Garage Area',\n",
    "# 'Garage Cars','Total Bsmt SF','1st Flr SF','ordinal_Bsmt Qual',\n",
    "# 'Year Built','ordinal_Garage Finish','Year Remod/Add','ordinal_Fireplace Qu',\n",
    "# 'Full Bath', 'TotRms AbvGrd','Mas Vnr Area', 'Fireplaces','ordinal_Heating QC',\n",
    "# #'ordinal_Bsmt Exposure','BsmtFin SF 1','ordinal_BsmtFin Type 1','Lot Area','Open Porch SF',\n",
    "# #'Lot Frontage','Wood Deck SF'\n",
    "# ] \n",
    "#0.33 is the cutoff"
   ]
  },
  {
   "cell_type": "code",
   "execution_count": 15,
   "metadata": {},
   "outputs": [],
   "source": [
    "features =[\n",
    "'ordinal_Overall Qual','Gr Liv Area','Garage Area','Total Bsmt SF',\n",
    "'1st Flr SF','ln_house_age','Year Remod/Add','Full Bath', 'TotRms AbvGrd',\n",
    "'Mas Vnr Area', 'Fireplaces','BsmtFin SF 1','Lot Area','Open Porch SF',\n",
    "'Lot Frontage','Wood Deck SF','Half Bath','f_has_open_porch','f_has_wooden_deck',\n",
    "\n",
    "'ordinal_Exter Qual','ordinal_Kitchen Qual','ordinal_Bsmt Qual','ordinal_Bsmt Exposure',\n",
    "'ordinal_Fireplace Qu','ln_house_age','ordinal_Electrical',\n",
    "'f_tot_porches','Enclosed Porch','ordinal_Overall Cond','nominal__Inside',\n",
    "'Low Qual Fin SF','nominal__FR2','nominal__RRNe',\n",
    "    \n",
    "'nominal_garage__Detchd' ,'nominal_garage__N_A'\n",
    "#'nominal__Y','nominal__GasW','Misc Val','ordinal_Paved Drive'\n",
    "    \n",
    "\n",
    "# 'nominal__None','nominal__Norm','nominal__PosN'\n",
    "#,,'nominal__Feedr.1','nominal__OthW',\n",
    "] \n",
    "\n"
   ]
  },
  {
   "cell_type": "code",
   "execution_count": null,
   "metadata": {},
   "outputs": [],
   "source": [
    "test_df.columns[train_df.columns.str.startswith('nominal_')]"
   ]
  },
  {
   "cell_type": "code",
   "execution_count": null,
   "metadata": {},
   "outputs": [],
   "source": [
    "train_df.corr()[['SalePrice']].sort_values(by='SalePrice',ascending=False)"
   ]
  },
  {
   "cell_type": "code",
   "execution_count": null,
   "metadata": {},
   "outputs": [],
   "source": [
    "apps_core = train_df.corr()[['SalePrice']].sort_values(by='SalePrice',ascending=False)\n",
    "plt.figure(figsize=(6,12))  # 6 by 12 inch to make plot bigger\n",
    "sns.heatmap(apps_core, vmin=-1,vmax=1,cmap='coolwarm');"
   ]
  },
  {
   "cell_type": "code",
   "execution_count": null,
   "metadata": {},
   "outputs": [],
   "source": [
    "X =train_df[features]\n",
    "\n",
    "# columns_to_drop =['SalePrice','ordinal_Garage Finish', 'ordinal_Electrical' ,  'ordinal_Garage Cond ',   'ordinal_Garage Qual' ,     'ordinal_Garage Cond',       'ordinal_Garage Qual',        'ordinal_Garage Finish',       'Garage Yr Blt',          'ordinal_Electrical'  ]\n",
    "# X = train_df._get_numeric_data().drop(columns =columns_to_drop)\n",
    "# features =list(X.columns)\n",
    "\n",
    "y_orig =train_df['SalePrice']\n",
    "y=np.log(train_df['SalePrice'])\n",
    "X_train, X_test, y_train, y_test = train_test_split(X,y,random_state=42,stratify=y)\n",
    "lr =LinearRegression()\n",
    "lr.fit(X_train,y_train);"
   ]
  },
  {
   "cell_type": "code",
   "execution_count": null,
   "metadata": {},
   "outputs": [],
   "source": [
    "train_score= lr.score(X_train,y_train)\n",
    "test_score = lr.score(X_test,y_test)\n",
    "cvs =cross_val_score(lr,X_train,y_train,cv=5).mean()\n",
    "\n",
    "print(f\"\\ntrain r2 score ={train_score}, \\ncross_val_score= {cvs}\\ntest score ={test_score}\")"
   ]
  },
  {
   "cell_type": "code",
   "execution_count": null,
   "metadata": {},
   "outputs": [],
   "source": [
    "y_hat =lr.predict(X)\n",
    "y_hat_orig = np.exp(y_hat)\n",
    "rmse= np.sqrt(metrics.mean_squared_error(y_orig,y_hat_orig ))\n",
    "print(f\"RMSE (equivalent Kaggle score={rmse}\")"
   ]
  },
  {
   "cell_type": "markdown",
   "metadata": {},
   "source": [
    "### Using the model to now predict the  data in test.csv"
   ]
  },
  {
   "cell_type": "code",
   "execution_count": null,
   "metadata": {},
   "outputs": [],
   "source": [
    "X_kaggle_test =test_df[features]\n",
    "test_df['SalePrice_log'] =lr.predict(X_kaggle_test)\n",
    "test_df['SalePrice'] =np.exp(test_df['SalePrice_log'])                    "
   ]
  },
  {
   "cell_type": "code",
   "execution_count": null,
   "metadata": {},
   "outputs": [],
   "source": []
  },
  {
   "cell_type": "code",
   "execution_count": null,
   "metadata": {},
   "outputs": [],
   "source": [
    "\n",
    "test_df[['Id' ,'SalePrice']].to_csv('./submission/ames_pred_01_16_01.csv',index=False)"
   ]
  },
  {
   "cell_type": "markdown",
   "metadata": {},
   "source": []
  }
 ],
 "metadata": {
  "kernelspec": {
   "display_name": "Python 3",
   "language": "python",
   "name": "python3"
  },
  "language_info": {
   "codemirror_mode": {
    "name": "ipython",
    "version": 3
   },
   "file_extension": ".py",
   "mimetype": "text/x-python",
   "name": "python",
   "nbconvert_exporter": "python",
   "pygments_lexer": "ipython3",
   "version": "3.7.4"
  }
 },
 "nbformat": 4,
 "nbformat_minor": 2
}
